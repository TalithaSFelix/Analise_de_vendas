{
 "cells": [
  {
   "cell_type": "code",
   "execution_count": 45,
   "id": "ae1d7bd6-0f64-409c-8858-c9418e28b56e",
   "metadata": {},
   "outputs": [
    {
     "name": "stdout",
     "output_type": "stream",
     "text": [
      "Python 3.11.7\n"
     ]
    }
   ],
   "source": [
    "!python --version"
   ]
  },
  {
   "cell_type": "code",
   "execution_count": 1,
   "id": "e88c10c0-ebef-41d9-97c1-9a45857d8cb4",
   "metadata": {},
   "outputs": [],
   "source": [
    "import pandas as pd"
   ]
  },
  {
   "cell_type": "code",
   "execution_count": 2,
   "id": "ab9acccf-67bb-4a62-b5c9-b47377cce0f9",
   "metadata": {},
   "outputs": [
    {
     "name": "stdout",
     "output_type": "stream",
     "text": [
      "2.1.4\n"
     ]
    }
   ],
   "source": [
    "print(pd.__version__)"
   ]
  },
  {
   "cell_type": "code",
   "execution_count": 3,
   "id": "c19f266f-fd05-4723-8b6b-415a3b0fc399",
   "metadata": {},
   "outputs": [
    {
     "name": "stdout",
     "output_type": "stream",
     "text": [
      "3.8.0\n"
     ]
    }
   ],
   "source": [
    "import matplotlib\n",
    "print(matplotlib.__version__)"
   ]
  },
  {
   "cell_type": "code",
   "execution_count": 4,
   "id": "ecc23cde-cce6-4e62-ba96-2907f14307fe",
   "metadata": {},
   "outputs": [],
   "source": [
    "import matplotlib.dates as mdates\n",
    "import matplotlib.pyplot as plt"
   ]
  },
  {
   "cell_type": "code",
   "execution_count": 48,
   "id": "44281a4f-5e3d-4174-a3cc-f7652b597ace",
   "metadata": {},
   "outputs": [
    {
     "name": "stdout",
     "output_type": "stream",
     "text": [
      "Name: plotly\n",
      "Version: 5.9.0\n",
      "Summary: An open-source, interactive data visualization library for Python\n",
      "Home-page: https://plotly.com/python/\n",
      "Author: Chris P\n",
      "Author-email: chris@plot.ly\n",
      "License: MIT\n",
      "Location: C:\\Users\\Talitha\\anaconda3\\Lib\\site-packages\n",
      "Requires: tenacity\n",
      "Required-by: \n"
     ]
    }
   ],
   "source": [
    "import plotly.graph_objects as go\n",
    "!pip show plotly"
   ]
  },
  {
   "cell_type": "code",
   "execution_count": 5,
   "id": "86cc694d-aa8c-49be-8c90-e490232017ab",
   "metadata": {},
   "outputs": [],
   "source": [
    "df = pd.read_csv(\"D:\\dados\\Data\\Tabela_Case_Mottu_2024_Vendas_&_Aluguel_Dados.csv\",encoding='latin-1')"
   ]
  },
  {
   "cell_type": "markdown",
   "id": "9c975528-03a7-4236-a6b5-fa09df7b83f5",
   "metadata": {},
   "source": [
    "Pra responder a questão terei de tratar os dados, e análisar a qualidade deles."
   ]
  },
  {
   "cell_type": "markdown",
   "id": "f0e1ce29-bf15-4d02-a6a8-4191d170762e",
   "metadata": {},
   "source": [
    "### Tratando os dados "
   ]
  },
  {
   "cell_type": "markdown",
   "id": "026d3f99-b921-4d58-8077-65290c05d9a6",
   "metadata": {},
   "source": [
    "Primeiro fiz a visualização da tabela "
   ]
  },
  {
   "cell_type": "code",
   "execution_count": 6,
   "id": "8d1df222-81e2-47c5-bcc2-132b8498bf39",
   "metadata": {},
   "outputs": [
    {
     "data": {
      "text/html": [
       "<div>\n",
       "<style scoped>\n",
       "    .dataframe tbody tr th:only-of-type {\n",
       "        vertical-align: middle;\n",
       "    }\n",
       "\n",
       "    .dataframe tbody tr th {\n",
       "        vertical-align: top;\n",
       "    }\n",
       "\n",
       "    .dataframe thead th {\n",
       "        text-align: right;\n",
       "    }\n",
       "</style>\n",
       "<table border=\"1\" class=\"dataframe\">\n",
       "  <thead>\n",
       "    <tr style=\"text-align: right;\">\n",
       "      <th></th>\n",
       "      <th>Data</th>\n",
       "      <th>A/V</th>\n",
       "      <th>Estado</th>\n",
       "      <th>Valor de Entrada</th>\n",
       "      <th>Caução</th>\n",
       "    </tr>\n",
       "  </thead>\n",
       "  <tbody>\n",
       "    <tr>\n",
       "      <th>0</th>\n",
       "      <td>01/08/24</td>\n",
       "      <td>Aluguel</td>\n",
       "      <td>GO</td>\n",
       "      <td>NaN</td>\n",
       "      <td>700.0</td>\n",
       "    </tr>\n",
       "    <tr>\n",
       "      <th>1</th>\n",
       "      <td>01/08/24</td>\n",
       "      <td>Aluguel</td>\n",
       "      <td>PR</td>\n",
       "      <td>NaN</td>\n",
       "      <td>500.0</td>\n",
       "    </tr>\n",
       "    <tr>\n",
       "      <th>2</th>\n",
       "      <td>01/08/24</td>\n",
       "      <td>Venda</td>\n",
       "      <td>GO</td>\n",
       "      <td>2500.0</td>\n",
       "      <td>NaN</td>\n",
       "    </tr>\n",
       "    <tr>\n",
       "      <th>3</th>\n",
       "      <td>01/08/24</td>\n",
       "      <td>Aluguel</td>\n",
       "      <td>AM</td>\n",
       "      <td>NaN</td>\n",
       "      <td>500.0</td>\n",
       "    </tr>\n",
       "    <tr>\n",
       "      <th>4</th>\n",
       "      <td>01/08/24</td>\n",
       "      <td>Aluguel</td>\n",
       "      <td>BA</td>\n",
       "      <td>NaN</td>\n",
       "      <td>500.0</td>\n",
       "    </tr>\n",
       "    <tr>\n",
       "      <th>...</th>\n",
       "      <td>...</td>\n",
       "      <td>...</td>\n",
       "      <td>...</td>\n",
       "      <td>...</td>\n",
       "      <td>...</td>\n",
       "    </tr>\n",
       "    <tr>\n",
       "      <th>1999</th>\n",
       "      <td>8/31/2024</td>\n",
       "      <td>Aluguel</td>\n",
       "      <td>SC</td>\n",
       "      <td>NaN</td>\n",
       "      <td>500.0</td>\n",
       "    </tr>\n",
       "    <tr>\n",
       "      <th>2000</th>\n",
       "      <td>8/31/2024</td>\n",
       "      <td>Aluguel</td>\n",
       "      <td>BA</td>\n",
       "      <td>NaN</td>\n",
       "      <td>500.0</td>\n",
       "    </tr>\n",
       "    <tr>\n",
       "      <th>2001</th>\n",
       "      <td>8/31/2024</td>\n",
       "      <td>Aluguel</td>\n",
       "      <td>MT</td>\n",
       "      <td>NaN</td>\n",
       "      <td>500.0</td>\n",
       "    </tr>\n",
       "    <tr>\n",
       "      <th>2002</th>\n",
       "      <td>8/31/2024</td>\n",
       "      <td>Aluguel</td>\n",
       "      <td>AC</td>\n",
       "      <td>NaN</td>\n",
       "      <td>700.0</td>\n",
       "    </tr>\n",
       "    <tr>\n",
       "      <th>2003</th>\n",
       "      <td>8/31/2024</td>\n",
       "      <td>Venda</td>\n",
       "      <td>SE</td>\n",
       "      <td>2000.0</td>\n",
       "      <td>NaN</td>\n",
       "    </tr>\n",
       "  </tbody>\n",
       "</table>\n",
       "<p>2004 rows × 5 columns</p>\n",
       "</div>"
      ],
      "text/plain": [
       "           Data      A/V Estado  Valor de Entrada  Caução\n",
       "0      01/08/24  Aluguel     GO               NaN   700.0\n",
       "1      01/08/24  Aluguel     PR               NaN   500.0\n",
       "2      01/08/24    Venda     GO            2500.0     NaN\n",
       "3      01/08/24  Aluguel     AM               NaN   500.0\n",
       "4      01/08/24  Aluguel     BA               NaN   500.0\n",
       "...         ...      ...    ...               ...     ...\n",
       "1999  8/31/2024  Aluguel     SC               NaN   500.0\n",
       "2000  8/31/2024  Aluguel     BA               NaN   500.0\n",
       "2001  8/31/2024  Aluguel     MT               NaN   500.0\n",
       "2002  8/31/2024  Aluguel     AC               NaN   700.0\n",
       "2003  8/31/2024    Venda     SE            2000.0     NaN\n",
       "\n",
       "[2004 rows x 5 columns]"
      ]
     },
     "execution_count": 6,
     "metadata": {},
     "output_type": "execute_result"
    }
   ],
   "source": [
    "df"
   ]
  },
  {
   "cell_type": "markdown",
   "id": "fbdd55e7-889a-4e59-905d-1c12e8e69209",
   "metadata": {},
   "source": [
    "Precisei verificar o tipo dos dados, já que eles podem interferir na análise "
   ]
  },
  {
   "cell_type": "code",
   "execution_count": 7,
   "id": "ed13a357-96eb-4898-8f12-d4a61a9cd8c3",
   "metadata": {},
   "outputs": [
    {
     "name": "stdout",
     "output_type": "stream",
     "text": [
      "<class 'pandas.core.frame.DataFrame'>\n",
      "RangeIndex: 2004 entries, 0 to 2003\n",
      "Data columns (total 5 columns):\n",
      " #   Column            Non-Null Count  Dtype  \n",
      "---  ------            --------------  -----  \n",
      " 0   Data              2004 non-null   object \n",
      " 1   A/V               2004 non-null   object \n",
      " 2   Estado            2004 non-null   object \n",
      " 3   Valor de Entrada  778 non-null    float64\n",
      " 4   Caução            1226 non-null   float64\n",
      "dtypes: float64(2), object(3)\n",
      "memory usage: 78.4+ KB\n"
     ]
    }
   ],
   "source": [
    "df.info()"
   ]
  },
  {
   "cell_type": "markdown",
   "id": "a8418a29-7e80-4633-a665-e02e75e94945",
   "metadata": {},
   "source": [
    "Dados do tipo object não são bons para poder fazer a análise de dados, já que isso traz algumas restrições\n",
    "Então modifiquei o Data para ficar no formato adequado, e o A/V e Estado. Já que estes devem ser do tipo string e não objeto"
   ]
  },
  {
   "cell_type": "code",
   "execution_count": 8,
   "id": "6b07a316-0a80-446c-b7f3-704f7c2ce3f9",
   "metadata": {},
   "outputs": [],
   "source": [
    "df.Data = pd.to_datetime(df.Data, format='mixed')"
   ]
  },
  {
   "cell_type": "code",
   "execution_count": 9,
   "id": "4e0e0bb8-d921-4c50-aceb-4fe2eba3ca92",
   "metadata": {},
   "outputs": [],
   "source": [
    "df['A/V'] = df['A/V'].astype(\"string\")\n",
    "df.Estado = df.Estado.astype(\"string\")"
   ]
  },
  {
   "cell_type": "markdown",
   "id": "6414d9c9-e2e0-468d-8b6d-2b116c4dbd0d",
   "metadata": {},
   "source": [
    "Aqui arrumamos o tipo do Dado para facilitar na nossa análise"
   ]
  },
  {
   "cell_type": "markdown",
   "id": "3961ccf0-5e94-425d-9c2b-a2f843c28dae",
   "metadata": {},
   "source": [
    "Chamei uma função para contar a quantidade de vezes que os estados se repetirão, um para dar uma maior noção de valores e para ver se há algum valor \n",
    "discrepante que deveria ser levado em consideração dentro da análise"
   ]
  },
  {
   "cell_type": "code",
   "execution_count": 10,
   "id": "21383154-8477-4a01-84ad-19acc380afef",
   "metadata": {},
   "outputs": [
    {
     "data": {
      "text/plain": [
       "Estado\n",
       "SP    242\n",
       "SC    194\n",
       "MG    186\n",
       "PE    179\n",
       "BA    150\n",
       "PR    130\n",
       "AL    123\n",
       "RS     90\n",
       "ES     70\n",
       "PA     61\n",
       "AM     59\n",
       "GO     56\n",
       "CE     52\n",
       "MT     41\n",
       "RN     34\n",
       "MS     33\n",
       "SE     33\n",
       "DF     32\n",
       "PB     32\n",
       "MA     32\n",
       "PI     31\n",
       "AP     28\n",
       "RJ     28\n",
       "TO     26\n",
       "AC     23\n",
       "RO     22\n",
       "RR     17\n",
       "Name: count, dtype: Int64"
      ]
     },
     "execution_count": 10,
     "metadata": {},
     "output_type": "execute_result"
    }
   ],
   "source": [
    "df.Estado.value_counts()"
   ]
  },
  {
   "cell_type": "code",
   "execution_count": 11,
   "id": "f9f248a5-0ea5-4405-b3f7-6f242bb45866",
   "metadata": {},
   "outputs": [
    {
     "data": {
      "text/plain": [
       "A/V\n",
       "Aluguel    1226\n",
       "Venda       778\n",
       "Name: count, dtype: Int64"
      ]
     },
     "execution_count": 11,
     "metadata": {},
     "output_type": "execute_result"
    }
   ],
   "source": [
    "df['A/V'].value_counts()"
   ]
  },
  {
   "cell_type": "markdown",
   "id": "1b9bf655-ad50-44d7-b8d2-ff78db494a6b",
   "metadata": {},
   "source": [
    "Verifiando mais uma vez o formato dos dados"
   ]
  },
  {
   "cell_type": "code",
   "execution_count": 12,
   "id": "abe33b8f-b7cb-4ed8-a67b-4df452bf3626",
   "metadata": {},
   "outputs": [
    {
     "name": "stdout",
     "output_type": "stream",
     "text": [
      "<class 'pandas.core.frame.DataFrame'>\n",
      "RangeIndex: 2004 entries, 0 to 2003\n",
      "Data columns (total 5 columns):\n",
      " #   Column            Non-Null Count  Dtype         \n",
      "---  ------            --------------  -----         \n",
      " 0   Data              2004 non-null   datetime64[ns]\n",
      " 1   A/V               2004 non-null   string        \n",
      " 2   Estado            2004 non-null   string        \n",
      " 3   Valor de Entrada  778 non-null    float64       \n",
      " 4   Caução            1226 non-null   float64       \n",
      "dtypes: datetime64[ns](1), float64(2), string(2)\n",
      "memory usage: 78.4 KB\n"
     ]
    }
   ],
   "source": [
    "df.info()"
   ]
  },
  {
   "cell_type": "markdown",
   "id": "2dd9990d-972a-47e1-8a13-a2cc917c9b03",
   "metadata": {},
   "source": [
    "Chamei a função discribe, para fazer uma análise estatistica dos dados, que é útil para se ter uma ideia sobre a distribuição dos campos de dados e outliers, se houver. No entanto ela vai exclur os valores NaN do nosso resumo."
   ]
  },
  {
   "cell_type": "code",
   "execution_count": 13,
   "id": "a0443e04-e385-4ecc-ba70-26605f98425c",
   "metadata": {},
   "outputs": [
    {
     "data": {
      "text/html": [
       "<div>\n",
       "<style scoped>\n",
       "    .dataframe tbody tr th:only-of-type {\n",
       "        vertical-align: middle;\n",
       "    }\n",
       "\n",
       "    .dataframe tbody tr th {\n",
       "        vertical-align: top;\n",
       "    }\n",
       "\n",
       "    .dataframe thead th {\n",
       "        text-align: right;\n",
       "    }\n",
       "</style>\n",
       "<table border=\"1\" class=\"dataframe\">\n",
       "  <thead>\n",
       "    <tr style=\"text-align: right;\">\n",
       "      <th></th>\n",
       "      <th>Data</th>\n",
       "      <th>Valor de Entrada</th>\n",
       "      <th>Caução</th>\n",
       "    </tr>\n",
       "  </thead>\n",
       "  <tbody>\n",
       "    <tr>\n",
       "      <th>count</th>\n",
       "      <td>2004</td>\n",
       "      <td>778.000000</td>\n",
       "      <td>1226.000000</td>\n",
       "    </tr>\n",
       "    <tr>\n",
       "      <th>mean</th>\n",
       "      <td>2024-07-24 20:40:14.371257344</td>\n",
       "      <td>2271.876607</td>\n",
       "      <td>602.854812</td>\n",
       "    </tr>\n",
       "    <tr>\n",
       "      <th>min</th>\n",
       "      <td>2024-01-08 00:00:00</td>\n",
       "      <td>20.000000</td>\n",
       "      <td>450.000000</td>\n",
       "    </tr>\n",
       "    <tr>\n",
       "      <th>25%</th>\n",
       "      <td>2024-07-08 00:00:00</td>\n",
       "      <td>2000.000000</td>\n",
       "      <td>500.000000</td>\n",
       "    </tr>\n",
       "    <tr>\n",
       "      <th>50%</th>\n",
       "      <td>2024-08-17 00:00:00</td>\n",
       "      <td>2500.000000</td>\n",
       "      <td>700.000000</td>\n",
       "    </tr>\n",
       "    <tr>\n",
       "      <th>75%</th>\n",
       "      <td>2024-08-27 00:00:00</td>\n",
       "      <td>2500.000000</td>\n",
       "      <td>700.000000</td>\n",
       "    </tr>\n",
       "    <tr>\n",
       "      <th>max</th>\n",
       "      <td>2024-12-08 00:00:00</td>\n",
       "      <td>3000.000000</td>\n",
       "      <td>900.000000</td>\n",
       "    </tr>\n",
       "    <tr>\n",
       "      <th>std</th>\n",
       "      <td>NaN</td>\n",
       "      <td>263.351481</td>\n",
       "      <td>100.346372</td>\n",
       "    </tr>\n",
       "  </tbody>\n",
       "</table>\n",
       "</div>"
      ],
      "text/plain": [
       "                                Data  Valor de Entrada       Caução\n",
       "count                           2004        778.000000  1226.000000\n",
       "mean   2024-07-24 20:40:14.371257344       2271.876607   602.854812\n",
       "min              2024-01-08 00:00:00         20.000000   450.000000\n",
       "25%              2024-07-08 00:00:00       2000.000000   500.000000\n",
       "50%              2024-08-17 00:00:00       2500.000000   700.000000\n",
       "75%              2024-08-27 00:00:00       2500.000000   700.000000\n",
       "max              2024-12-08 00:00:00       3000.000000   900.000000\n",
       "std                              NaN        263.351481   100.346372"
      ]
     },
     "execution_count": 13,
     "metadata": {},
     "output_type": "execute_result"
    }
   ],
   "source": [
    "df.describe()"
   ]
  },
  {
   "cell_type": "code",
   "execution_count": 14,
   "id": "09ba8cde-cc34-49d5-8568-7f919216256d",
   "metadata": {},
   "outputs": [
    {
     "data": {
      "text/plain": [
       "Valor de Entrada\n",
       "2500.0    419\n",
       "2000.0    351\n",
       "3000.0      1\n",
       "20.0        1\n",
       "2400.0      1\n",
       "2600.0      1\n",
       "2700.0      1\n",
       "2250.0      1\n",
       "2750.0      1\n",
       "2300.0      1\n",
       "Name: count, dtype: int64"
      ]
     },
     "execution_count": 14,
     "metadata": {},
     "output_type": "execute_result"
    }
   ],
   "source": [
    "df['Valor de Entrada'].value_counts()"
   ]
  },
  {
   "cell_type": "markdown",
   "id": "8d492680-cd9c-47ba-9a2d-697f0bd0e0f7",
   "metadata": {},
   "source": [
    "Somente foi encontrado um valor discrepante 20, sendo que o valor mínimo para a parcela é de 500x5, 1.250x2 ou avista em 2000. \n",
    "Por este motivo este dado será removido da tabela já que sua remoção não irá alterar os resultados."
   ]
  },
  {
   "cell_type": "code",
   "execution_count": 15,
   "id": "7c92bc58-1f30-4c41-8dc2-143776c381c9",
   "metadata": {
    "jupyter": {
     "source_hidden": true
    },
    "scrolled": true
   },
   "outputs": [
    {
     "data": {
      "text/html": [
       "<div>\n",
       "<style scoped>\n",
       "    .dataframe tbody tr th:only-of-type {\n",
       "        vertical-align: middle;\n",
       "    }\n",
       "\n",
       "    .dataframe tbody tr th {\n",
       "        vertical-align: top;\n",
       "    }\n",
       "\n",
       "    .dataframe thead th {\n",
       "        text-align: right;\n",
       "    }\n",
       "</style>\n",
       "<table border=\"1\" class=\"dataframe\">\n",
       "  <thead>\n",
       "    <tr style=\"text-align: right;\">\n",
       "      <th></th>\n",
       "      <th>Data</th>\n",
       "      <th>A/V</th>\n",
       "      <th>Estado</th>\n",
       "      <th>Valor de Entrada</th>\n",
       "      <th>Caução</th>\n",
       "    </tr>\n",
       "  </thead>\n",
       "  <tbody>\n",
       "    <tr>\n",
       "      <th>414</th>\n",
       "      <td>2024-06-08</td>\n",
       "      <td>Venda</td>\n",
       "      <td>PB</td>\n",
       "      <td>20.0</td>\n",
       "      <td>NaN</td>\n",
       "    </tr>\n",
       "  </tbody>\n",
       "</table>\n",
       "</div>"
      ],
      "text/plain": [
       "          Data    A/V Estado  Valor de Entrada  Caução\n",
       "414 2024-06-08  Venda     PB              20.0     NaN"
      ]
     },
     "execution_count": 15,
     "metadata": {},
     "output_type": "execute_result"
    }
   ],
   "source": [
    "df.loc[df['Valor de Entrada'] == 20]"
   ]
  },
  {
   "cell_type": "markdown",
   "id": "50b566dc-b6c6-4ea0-87f7-8dcaceeea880",
   "metadata": {},
   "source": [
    "Verificando a linha do número que queria remover e então removendo tal."
   ]
  },
  {
   "cell_type": "code",
   "execution_count": 16,
   "id": "83e3f899-9ddb-4aaf-a45d-fb0cf629a575",
   "metadata": {},
   "outputs": [
    {
     "data": {
      "text/html": [
       "<div>\n",
       "<style scoped>\n",
       "    .dataframe tbody tr th:only-of-type {\n",
       "        vertical-align: middle;\n",
       "    }\n",
       "\n",
       "    .dataframe tbody tr th {\n",
       "        vertical-align: top;\n",
       "    }\n",
       "\n",
       "    .dataframe thead th {\n",
       "        text-align: right;\n",
       "    }\n",
       "</style>\n",
       "<table border=\"1\" class=\"dataframe\">\n",
       "  <thead>\n",
       "    <tr style=\"text-align: right;\">\n",
       "      <th></th>\n",
       "      <th>Data</th>\n",
       "      <th>A/V</th>\n",
       "      <th>Estado</th>\n",
       "      <th>Valor de Entrada</th>\n",
       "      <th>Caução</th>\n",
       "    </tr>\n",
       "  </thead>\n",
       "  <tbody>\n",
       "    <tr>\n",
       "      <th>0</th>\n",
       "      <td>2024-01-08</td>\n",
       "      <td>Aluguel</td>\n",
       "      <td>GO</td>\n",
       "      <td>NaN</td>\n",
       "      <td>700.0</td>\n",
       "    </tr>\n",
       "    <tr>\n",
       "      <th>1</th>\n",
       "      <td>2024-01-08</td>\n",
       "      <td>Aluguel</td>\n",
       "      <td>PR</td>\n",
       "      <td>NaN</td>\n",
       "      <td>500.0</td>\n",
       "    </tr>\n",
       "    <tr>\n",
       "      <th>2</th>\n",
       "      <td>2024-01-08</td>\n",
       "      <td>Venda</td>\n",
       "      <td>GO</td>\n",
       "      <td>2500.0</td>\n",
       "      <td>NaN</td>\n",
       "    </tr>\n",
       "    <tr>\n",
       "      <th>3</th>\n",
       "      <td>2024-01-08</td>\n",
       "      <td>Aluguel</td>\n",
       "      <td>AM</td>\n",
       "      <td>NaN</td>\n",
       "      <td>500.0</td>\n",
       "    </tr>\n",
       "    <tr>\n",
       "      <th>4</th>\n",
       "      <td>2024-01-08</td>\n",
       "      <td>Aluguel</td>\n",
       "      <td>BA</td>\n",
       "      <td>NaN</td>\n",
       "      <td>500.0</td>\n",
       "    </tr>\n",
       "    <tr>\n",
       "      <th>...</th>\n",
       "      <td>...</td>\n",
       "      <td>...</td>\n",
       "      <td>...</td>\n",
       "      <td>...</td>\n",
       "      <td>...</td>\n",
       "    </tr>\n",
       "    <tr>\n",
       "      <th>1999</th>\n",
       "      <td>2024-08-31</td>\n",
       "      <td>Aluguel</td>\n",
       "      <td>SC</td>\n",
       "      <td>NaN</td>\n",
       "      <td>500.0</td>\n",
       "    </tr>\n",
       "    <tr>\n",
       "      <th>2000</th>\n",
       "      <td>2024-08-31</td>\n",
       "      <td>Aluguel</td>\n",
       "      <td>BA</td>\n",
       "      <td>NaN</td>\n",
       "      <td>500.0</td>\n",
       "    </tr>\n",
       "    <tr>\n",
       "      <th>2001</th>\n",
       "      <td>2024-08-31</td>\n",
       "      <td>Aluguel</td>\n",
       "      <td>MT</td>\n",
       "      <td>NaN</td>\n",
       "      <td>500.0</td>\n",
       "    </tr>\n",
       "    <tr>\n",
       "      <th>2002</th>\n",
       "      <td>2024-08-31</td>\n",
       "      <td>Aluguel</td>\n",
       "      <td>AC</td>\n",
       "      <td>NaN</td>\n",
       "      <td>700.0</td>\n",
       "    </tr>\n",
       "    <tr>\n",
       "      <th>2003</th>\n",
       "      <td>2024-08-31</td>\n",
       "      <td>Venda</td>\n",
       "      <td>SE</td>\n",
       "      <td>2000.0</td>\n",
       "      <td>NaN</td>\n",
       "    </tr>\n",
       "  </tbody>\n",
       "</table>\n",
       "<p>2003 rows × 5 columns</p>\n",
       "</div>"
      ],
      "text/plain": [
       "           Data      A/V Estado  Valor de Entrada  Caução\n",
       "0    2024-01-08  Aluguel     GO               NaN   700.0\n",
       "1    2024-01-08  Aluguel     PR               NaN   500.0\n",
       "2    2024-01-08    Venda     GO            2500.0     NaN\n",
       "3    2024-01-08  Aluguel     AM               NaN   500.0\n",
       "4    2024-01-08  Aluguel     BA               NaN   500.0\n",
       "...         ...      ...    ...               ...     ...\n",
       "1999 2024-08-31  Aluguel     SC               NaN   500.0\n",
       "2000 2024-08-31  Aluguel     BA               NaN   500.0\n",
       "2001 2024-08-31  Aluguel     MT               NaN   500.0\n",
       "2002 2024-08-31  Aluguel     AC               NaN   700.0\n",
       "2003 2024-08-31    Venda     SE            2000.0     NaN\n",
       "\n",
       "[2003 rows x 5 columns]"
      ]
     },
     "execution_count": 16,
     "metadata": {},
     "output_type": "execute_result"
    }
   ],
   "source": [
    "df.drop([414], axis=0)"
   ]
  },
  {
   "cell_type": "markdown",
   "id": "10b3e080-97e1-4d2b-a9e5-39b061e36074",
   "metadata": {},
   "source": [
    "Mesma linha de raciocínio anterior"
   ]
  },
  {
   "cell_type": "code",
   "execution_count": 17,
   "id": "dafd9043-8a78-4851-a597-891977cc7525",
   "metadata": {},
   "outputs": [
    {
     "data": {
      "text/plain": [
       "Caução\n",
       "700.0    615\n",
       "500.0    590\n",
       "600.0      8\n",
       "650.0      4\n",
       "550.0      3\n",
       "800.0      2\n",
       "900.0      1\n",
       "850.0      1\n",
       "450.0      1\n",
       "750.0      1\n",
       "Name: count, dtype: int64"
      ]
     },
     "execution_count": 17,
     "metadata": {},
     "output_type": "execute_result"
    }
   ],
   "source": [
    "df['Caução'].value_counts()"
   ]
  },
  {
   "cell_type": "markdown",
   "id": "bd0cebba-fa63-49c9-8281-b3fe65372a20",
   "metadata": {},
   "source": [
    "Somente foi encontrado um valor discrepante 450, sendo que o valor mínimo para a parcela é de 504. \n",
    "Neste caso irei manter o valor, por poder tratar-se de um desconto e não parecer um valor tão fora da realidade."
   ]
  },
  {
   "cell_type": "code",
   "execution_count": 18,
   "id": "4f382e02-66bb-47ef-8edf-3de09478bd31",
   "metadata": {
    "scrolled": true
   },
   "outputs": [
    {
     "data": {
      "text/plain": [
       "Caução\n",
       "450.0   NaN\n",
       "500.0   NaN\n",
       "550.0   NaN\n",
       "600.0   NaN\n",
       "650.0   NaN\n",
       "700.0   NaN\n",
       "750.0   NaN\n",
       "800.0   NaN\n",
       "850.0   NaN\n",
       "900.0   NaN\n",
       "Name: Valor de Entrada, dtype: float64"
      ]
     },
     "execution_count": 18,
     "metadata": {},
     "output_type": "execute_result"
    }
   ],
   "source": [
    "df.groupby('Caução')['Valor de Entrada'].std()"
   ]
  },
  {
   "cell_type": "markdown",
   "id": "e53b322d-061d-42bb-98f9-317549048aff",
   "metadata": {},
   "source": [
    "A seguir quis plotar uma tabela com o objetivo de calcular o desempenho financeiro por estado, somando os valores de entrada e caução. Os dados foram agrupados por estado, somando essas colunas para cada estado. Em seguida, é criada uma métrica de \"Total Desempenho\" que combina as duas somas. Por fim, ordenando os estados de acordo com o seu desempenho total, destacando aqueles com os maiores valores combinados de \"Valor de Entrada\" e \"Caução\"."
   ]
  },
  {
   "cell_type": "code",
   "execution_count": 19,
   "id": "884341c2-b446-4fa4-b576-47c8927f83a6",
   "metadata": {},
   "outputs": [
    {
     "data": {
      "text/html": [
       "<div>\n",
       "<style scoped>\n",
       "    .dataframe tbody tr th:only-of-type {\n",
       "        vertical-align: middle;\n",
       "    }\n",
       "\n",
       "    .dataframe tbody tr th {\n",
       "        vertical-align: top;\n",
       "    }\n",
       "\n",
       "    .dataframe thead th {\n",
       "        text-align: right;\n",
       "    }\n",
       "</style>\n",
       "<table border=\"1\" class=\"dataframe\">\n",
       "  <thead>\n",
       "    <tr style=\"text-align: right;\">\n",
       "      <th></th>\n",
       "      <th>Valor de Entrada</th>\n",
       "      <th>Caução</th>\n",
       "      <th>Total Desempenho</th>\n",
       "    </tr>\n",
       "    <tr>\n",
       "      <th>Estado</th>\n",
       "      <th></th>\n",
       "      <th></th>\n",
       "      <th></th>\n",
       "    </tr>\n",
       "  </thead>\n",
       "  <tbody>\n",
       "    <tr>\n",
       "      <th>SP</th>\n",
       "      <td>296500.0</td>\n",
       "      <td>64150.0</td>\n",
       "      <td>360650.0</td>\n",
       "    </tr>\n",
       "    <tr>\n",
       "      <th>MG</th>\n",
       "      <td>222000.0</td>\n",
       "      <td>51950.0</td>\n",
       "      <td>273950.0</td>\n",
       "    </tr>\n",
       "    <tr>\n",
       "      <th>SC</th>\n",
       "      <td>180000.0</td>\n",
       "      <td>67050.0</td>\n",
       "      <td>247050.0</td>\n",
       "    </tr>\n",
       "    <tr>\n",
       "      <th>PE</th>\n",
       "      <td>118500.0</td>\n",
       "      <td>76300.0</td>\n",
       "      <td>194800.0</td>\n",
       "    </tr>\n",
       "    <tr>\n",
       "      <th>RS</th>\n",
       "      <td>144500.0</td>\n",
       "      <td>14200.0</td>\n",
       "      <td>158700.0</td>\n",
       "    </tr>\n",
       "    <tr>\n",
       "      <th>BA</th>\n",
       "      <td>82300.0</td>\n",
       "      <td>73000.0</td>\n",
       "      <td>155300.0</td>\n",
       "    </tr>\n",
       "    <tr>\n",
       "      <th>PR</th>\n",
       "      <td>67000.0</td>\n",
       "      <td>65750.0</td>\n",
       "      <td>132750.0</td>\n",
       "    </tr>\n",
       "    <tr>\n",
       "      <th>ES</th>\n",
       "      <td>78500.0</td>\n",
       "      <td>23200.0</td>\n",
       "      <td>101700.0</td>\n",
       "    </tr>\n",
       "    <tr>\n",
       "      <th>AL</th>\n",
       "      <td>39500.0</td>\n",
       "      <td>59700.0</td>\n",
       "      <td>99200.0</td>\n",
       "    </tr>\n",
       "    <tr>\n",
       "      <th>PA</th>\n",
       "      <td>82000.0</td>\n",
       "      <td>14900.0</td>\n",
       "      <td>96900.0</td>\n",
       "    </tr>\n",
       "    <tr>\n",
       "      <th>AM</th>\n",
       "      <td>69600.0</td>\n",
       "      <td>16600.0</td>\n",
       "      <td>86200.0</td>\n",
       "    </tr>\n",
       "    <tr>\n",
       "      <th>GO</th>\n",
       "      <td>50500.0</td>\n",
       "      <td>20400.0</td>\n",
       "      <td>70900.0</td>\n",
       "    </tr>\n",
       "    <tr>\n",
       "      <th>CE</th>\n",
       "      <td>51500.0</td>\n",
       "      <td>18600.0</td>\n",
       "      <td>70100.0</td>\n",
       "    </tr>\n",
       "    <tr>\n",
       "      <th>MT</th>\n",
       "      <td>38900.0</td>\n",
       "      <td>15200.0</td>\n",
       "      <td>54100.0</td>\n",
       "    </tr>\n",
       "    <tr>\n",
       "      <th>MA</th>\n",
       "      <td>32000.0</td>\n",
       "      <td>12700.0</td>\n",
       "      <td>44700.0</td>\n",
       "    </tr>\n",
       "    <tr>\n",
       "      <th>PI</th>\n",
       "      <td>27500.0</td>\n",
       "      <td>11200.0</td>\n",
       "      <td>38700.0</td>\n",
       "    </tr>\n",
       "    <tr>\n",
       "      <th>RN</th>\n",
       "      <td>20500.0</td>\n",
       "      <td>15000.0</td>\n",
       "      <td>35500.0</td>\n",
       "    </tr>\n",
       "    <tr>\n",
       "      <th>DF</th>\n",
       "      <td>21500.0</td>\n",
       "      <td>13300.0</td>\n",
       "      <td>34800.0</td>\n",
       "    </tr>\n",
       "    <tr>\n",
       "      <th>PB</th>\n",
       "      <td>19020.0</td>\n",
       "      <td>14700.0</td>\n",
       "      <td>33720.0</td>\n",
       "    </tr>\n",
       "    <tr>\n",
       "      <th>SE</th>\n",
       "      <td>19000.0</td>\n",
       "      <td>14600.0</td>\n",
       "      <td>33600.0</td>\n",
       "    </tr>\n",
       "    <tr>\n",
       "      <th>MS</th>\n",
       "      <td>18000.0</td>\n",
       "      <td>15150.0</td>\n",
       "      <td>33150.0</td>\n",
       "    </tr>\n",
       "    <tr>\n",
       "      <th>TO</th>\n",
       "      <td>23500.0</td>\n",
       "      <td>8300.0</td>\n",
       "      <td>31800.0</td>\n",
       "    </tr>\n",
       "    <tr>\n",
       "      <th>RJ</th>\n",
       "      <td>20500.0</td>\n",
       "      <td>11300.0</td>\n",
       "      <td>31800.0</td>\n",
       "    </tr>\n",
       "    <tr>\n",
       "      <th>AP</th>\n",
       "      <td>12500.0</td>\n",
       "      <td>13600.0</td>\n",
       "      <td>26100.0</td>\n",
       "    </tr>\n",
       "    <tr>\n",
       "      <th>AC</th>\n",
       "      <td>13000.0</td>\n",
       "      <td>10300.0</td>\n",
       "      <td>23300.0</td>\n",
       "    </tr>\n",
       "    <tr>\n",
       "      <th>RR</th>\n",
       "      <td>12200.0</td>\n",
       "      <td>7200.0</td>\n",
       "      <td>19400.0</td>\n",
       "    </tr>\n",
       "    <tr>\n",
       "      <th>RO</th>\n",
       "      <td>7000.0</td>\n",
       "      <td>10750.0</td>\n",
       "      <td>17750.0</td>\n",
       "    </tr>\n",
       "  </tbody>\n",
       "</table>\n",
       "</div>"
      ],
      "text/plain": [
       "        Valor de Entrada   Caução  Total Desempenho\n",
       "Estado                                             \n",
       "SP              296500.0  64150.0          360650.0\n",
       "MG              222000.0  51950.0          273950.0\n",
       "SC              180000.0  67050.0          247050.0\n",
       "PE              118500.0  76300.0          194800.0\n",
       "RS              144500.0  14200.0          158700.0\n",
       "BA               82300.0  73000.0          155300.0\n",
       "PR               67000.0  65750.0          132750.0\n",
       "ES               78500.0  23200.0          101700.0\n",
       "AL               39500.0  59700.0           99200.0\n",
       "PA               82000.0  14900.0           96900.0\n",
       "AM               69600.0  16600.0           86200.0\n",
       "GO               50500.0  20400.0           70900.0\n",
       "CE               51500.0  18600.0           70100.0\n",
       "MT               38900.0  15200.0           54100.0\n",
       "MA               32000.0  12700.0           44700.0\n",
       "PI               27500.0  11200.0           38700.0\n",
       "RN               20500.0  15000.0           35500.0\n",
       "DF               21500.0  13300.0           34800.0\n",
       "PB               19020.0  14700.0           33720.0\n",
       "SE               19000.0  14600.0           33600.0\n",
       "MS               18000.0  15150.0           33150.0\n",
       "TO               23500.0   8300.0           31800.0\n",
       "RJ               20500.0  11300.0           31800.0\n",
       "AP               12500.0  13600.0           26100.0\n",
       "AC               13000.0  10300.0           23300.0\n",
       "RR               12200.0   7200.0           19400.0\n",
       "RO                7000.0  10750.0           17750.0"
      ]
     },
     "execution_count": 19,
     "metadata": {},
     "output_type": "execute_result"
    }
   ],
   "source": [
    "df_grupo = df.groupby('Estado').agg({\n",
    "    'Valor de Entrada': 'sum',\n",
    "    'Caução': 'sum'\n",
    "}).fillna(0)\n",
    "\n",
    "df_grupo['Total Desempenho'] = df_grupo['Valor de Entrada'] + df_grupo['Caução']\n",
    "desempenho = df_grupo.sort_values(by='Total Desempenho', ascending=False)\n",
    "desempenho"
   ]
  },
  {
   "cell_type": "markdown",
   "id": "56d3b668-d129-43c6-8b4a-314db5d846f5",
   "metadata": {},
   "source": [
    "Em seguida quis plotar um gráfico para ficar mais fácil a visualização dos dados obtidos no código anterior"
   ]
  },
  {
   "cell_type": "code",
   "execution_count": 40,
   "id": "134adf3a-4cfa-49f5-862e-9265f03a6259",
   "metadata": {},
   "outputs": [
    {
     "data": {
      "image/png": "[encoded data removed]",
      "text/plain": [
       "<Figure size 1000x600 with 2 Axes>"
      ]
     },
     "metadata": {},
     "output_type": "display_data"
    }
   ],
   "source": [
    "def finaliza_grafico(ax, criterio_desc):\n",
    "    ax.set_ylabel('Desempenho (R$)')\n",
    "    ax.set_xlabel('Estado')\n",
    "    ax.legend()\n",
    "    ax.set_title(criterio_desc)\n",
    "    ax.tick_params(axis='x', rotation=90)\n",
    "    plt.tight_layout()\n",
    "    plt.show()\n",
    "\n",
    "# Gráfico de barras para o desempenho total por estado, vendas e caução\n",
    "def plota_graficos(desempenho):\n",
    "    estados = desempenho.index\n",
    "    total_desempenho = desempenho['Total Desempenho']\n",
    "    vendas = desempenho['Valor de Entrada']\n",
    "    caucao = desempenho['Caução']\n",
    "    \n",
    "    fig, ax = plt.subplots(figsize=(10, 6))\n",
    "\n",
    "    ax.bar(estados, total_desempenho, color='lightgray', label='Total Desempenho')\n",
    "\n",
    "    # Segunda linha (vendas)\n",
    "    ax2 = ax.twinx()\n",
    "    ax2.plot(estados, vendas, color='#008b2f', linewidth=2, linestyle='--', label='Vendas', marker='o')\n",
    "    ax2.plot(estados, caucao, color='orange', linewidth=2, linestyle='-', label='Caução', marker='s')\n",
    "\n",
    "    ax.set_ylabel('Total Desempenho (R$)')\n",
    "    ax.set_xlabel('Estado')\n",
    "    ax.set_title('Desempenho Total por Estado (Vendas + Caução)')\n",
    "\n",
    "    lines1, labels1 = ax.get_legend_handles_labels()\n",
    "    lines2, labels2 = ax2.get_legend_handles_labels()\n",
    "    ax.legend(lines1 + lines2, labels1 + labels2, loc='upper left')\n",
    "\n",
    "    ax.set_xticks(range(len(estados)))\n",
    "    ax.set_xticklabels(estados, rotation=90)\n",
    "    plt.tight_layout()\n",
    "    plt.show()\n",
    "plota_graficos(desempenho)"
   ]
  },
  {
   "cell_type": "markdown",
   "id": "b7392e7f-ceb6-4e70-a042-38c84a50e8d2",
   "metadata": {},
   "source": [
    "Mesmo grafico anterior mas feito de modo interativo"
   ]
  },
  {
   "cell_type": "code",
   "execution_count": 41,
   "id": "65ce08d6-2d15-4a9c-9fcf-0ac96ec1b85c",
   "metadata": {},
   "outputs": [
    {
     "data": {
      "application/vnd.plotly.v1+json": {
       "config": {
        "plotlyServerURL": "https://plot.ly"
       },
       "data": [
        {
         "marker": {
          "color": "lightgray"
         },
         "name": "Total Desempenho",
         "type": "bar",
         "x": [
          "SP",
          "MG",
          "SC",
          "PE",
          "RS",
          "BA",
          "PR",
          "ES",
          "AL",
          "PA",
          "AM",
          "GO",
          "CE",
          "MT",
          "MA",
          "PI",
          "RN",
          "DF",
          "PB",
          "SE",
          "MS",
          "TO",
          "RJ",
          "AP",
          "AC",
          "RR",
          "RO"
         ],
         "y": [
          360650,
          273950,
          247050,
          194800,
          158700,
          155300,
          132750,
          101700,
          99200,
          96900,
          86200,
          70900,
          70100,
          54100,
          44700,
          38700,
          35500,
          34800,
          33720,
          33600,
          33150,
          31800,
          31800,
          26100,
          23300,
          19400,
          17750
         ]
        },
        {
         "line": {
          "color": "#008b2f",
          "dash": "dash"
         },
         "marker": {
          "symbol": "circle"
         },
         "mode": "lines+markers",
         "name": "Vendas",
         "type": "scatter",
         "x": [
          "SP",
          "MG",
          "SC",
          "PE",
          "RS",
          "BA",
          "PR",
          "ES",
          "AL",
          "PA",
          "AM",
          "GO",
          "CE",
          "MT",
          "MA",
          "PI",
          "RN",
          "DF",
          "PB",
          "SE",
          "MS",
          "TO",
          "RJ",
          "AP",
          "AC",
          "RR",
          "RO"
         ],
         "y": [
          296500,
          222000,
          180000,
          118500,
          144500,
          82300,
          67000,
          78500,
          39500,
          82000,
          69600,
          50500,
          51500,
          38900,
          32000,
          27500,
          20500,
          21500,
          19020,
          19000,
          18000,
          23500,
          20500,
          12500,
          13000,
          12200,
          7000
         ]
        },
        {
         "line": {
          "color": "orange"
         },
         "marker": {
          "symbol": "square"
         },
         "mode": "lines+markers",
         "name": "Caução",
         "type": "scatter",
         "x": [
          "SP",
          "MG",
          "SC",
          "PE",
          "RS",
          "BA",
          "PR",
          "ES",
          "AL",
          "PA",
          "AM",
          "GO",
          "CE",
          "MT",
          "MA",
          "PI",
          "RN",
          "DF",
          "PB",
          "SE",
          "MS",
          "TO",
          "RJ",
          "AP",
          "AC",
          "RR",
          "RO"
         ],
         "y": [
          64150,
          51950,
          67050,
          76300,
          14200,
          73000,
          65750,
          23200,
          59700,
          14900,
          16600,
          20400,
          18600,
          15200,
          12700,
          11200,
          15000,
          13300,
          14700,
          14600,
          15150,
          8300,
          11300,
          13600,
          10300,
          7200,
          10750
         ]
        }
       ],
       "layout": {
        "height": 600,
        "legend": {
         "title": {
          "text": "Métricas"
         }
        },
        "template": {
         "data": {
          "bar": [
           {
            "error_x": {
             "color": "#2a3f5f"
            },
            "error_y": {
             "color": "#2a3f5f"
            },
            "marker": {
             "line": {
              "color": "white",
              "width": 0.5
             },
             "pattern": {
              "fillmode": "overlay",
              "size": 10,
              "solidity": 0.2
             }
            },
            "type": "bar"
           }
          ],
          "barpolar": [
           {
            "marker": {
             "line": {
              "color": "white",
              "width": 0.5
             },
             "pattern": {
              "fillmode": "overlay",
              "size": 10,
              "solidity": 0.2
             }
            },
            "type": "barpolar"
           }
          ],
          "carpet": [
           {
            "aaxis": {
             "endlinecolor": "#2a3f5f",
             "gridcolor": "#C8D4E3",
             "linecolor": "#C8D4E3",
             "minorgridcolor": "#C8D4E3",
             "startlinecolor": "#2a3f5f"
            },
            "baxis": {
             "endlinecolor": "#2a3f5f",
             "gridcolor": "#C8D4E3",
             "linecolor": "#C8D4E3",
             "minorgridcolor": "#C8D4E3",
             "startlinecolor": "#2a3f5f"
            },
            "type": "carpet"
           }
          ],
          "choropleth": [
           {
            "colorbar": {
             "outlinewidth": 0,
             "ticks": ""
            },
            "type": "choropleth"
           }
          ],
          "contour": [
           {
            "colorbar": {
             "outlinewidth": 0,
             "ticks": ""
            },
            "colorscale": [
             [
              0,
              "#0d0887"
             ],
             [
              0.1111111111111111,
              "#46039f"
             ],
             [
              0.2222222222222222,
              "#7201a8"
             ],
             [
              0.3333333333333333,
              "#9c179e"
             ],
             [
              0.4444444444444444,
              "#bd3786"
             ],
             [
              0.5555555555555556,
              "#d8576b"
             ],
             [
              0.6666666666666666,
              "#ed7953"
             ],
             [
              0.7777777777777778,
              "#fb9f3a"
             ],
             [
              0.8888888888888888,
              "#fdca26"
             ],
             [
              1,
              "#f0f921"
             ]
            ],
            "type": "contour"
           }
          ],
          "contourcarpet": [
           {
            "colorbar": {
             "outlinewidth": 0,
             "ticks": ""
            },
            "type": "contourcarpet"
           }
          ],
          "heatmap": [
           {
            "colorbar": {
             "outlinewidth": 0,
             "ticks": ""
            },
            "colorscale": [
             [
              0,
              "#0d0887"
             ],
             [
              0.1111111111111111,
              "#46039f"
             ],
             [
              0.2222222222222222,
              "#7201a8"
             ],
             [
              0.3333333333333333,
              "#9c179e"
             ],
             [
              0.4444444444444444,
              "#bd3786"
             ],
             [
              0.5555555555555556,
              "#d8576b"
             ],
             [
              0.6666666666666666,
              "#ed7953"
             ],
             [
              0.7777777777777778,
              "#fb9f3a"
             ],
             [
              0.8888888888888888,
              "#fdca26"
             ],
             [
              1,
              "#f0f921"
             ]
            ],
            "type": "heatmap"
           }
          ],
          "heatmapgl": [
           {
            "colorbar": {
             "outlinewidth": 0,
             "ticks": ""
            },
            "colorscale": [
             [
              0,
              "#0d0887"
             ],
             [
              0.1111111111111111,
              "#46039f"
             ],
             [
              0.2222222222222222,
              "#7201a8"
             ],
             [
              0.3333333333333333,
              "#9c179e"
             ],
             [
              0.4444444444444444,
              "#bd3786"
             ],
             [
              0.5555555555555556,
              "#d8576b"
             ],
             [
              0.6666666666666666,
              "#ed7953"
             ],
             [
              0.7777777777777778,
              "#fb9f3a"
             ],
             [
              0.8888888888888888,
              "#fdca26"
             ],
             [
              1,
              "#f0f921"
             ]
            ],
            "type": "heatmapgl"
           }
          ],
          "histogram": [
           {
            "marker": {
             "pattern": {
              "fillmode": "overlay",
              "size": 10,
              "solidity": 0.2
             }
            },
            "type": "histogram"
           }
          ],
          "histogram2d": [
           {
            "colorbar": {
             "outlinewidth": 0,
             "ticks": ""
            },
            "colorscale": [
             [
              0,
              "#0d0887"
             ],
             [
              0.1111111111111111,
              "#46039f"
             ],
             [
              0.2222222222222222,
              "#7201a8"
             ],
             [
              0.3333333333333333,
              "#9c179e"
             ],
             [
              0.4444444444444444,
              "#bd3786"
             ],
             [
              0.5555555555555556,
              "#d8576b"
             ],
             [
              0.6666666666666666,
              "#ed7953"
             ],
             [
              0.7777777777777778,
              "#fb9f3a"
             ],
             [
              0.8888888888888888,
              "#fdca26"
             ],
             [
              1,
              "#f0f921"
             ]
            ],
            "type": "histogram2d"
           }
          ],
          "histogram2dcontour": [
           {
            "colorbar": {
             "outlinewidth": 0,
             "ticks": ""
            },
            "colorscale": [
             [
              0,
              "#0d0887"
             ],
             [
              0.1111111111111111,
              "#46039f"
             ],
             [
              0.2222222222222222,
              "#7201a8"
             ],
             [
              0.3333333333333333,
              "#9c179e"
             ],
             [
              0.4444444444444444,
              "#bd3786"
             ],
             [
              0.5555555555555556,
              "#d8576b"
             ],
             [
              0.6666666666666666,
              "#ed7953"
             ],
             [
              0.7777777777777778,
              "#fb9f3a"
             ],
             [
              0.8888888888888888,
              "#fdca26"
             ],
             [
              1,
              "#f0f921"
             ]
            ],
            "type": "histogram2dcontour"
           }
          ],
          "mesh3d": [
           {
            "colorbar": {
             "outlinewidth": 0,
             "ticks": ""
            },
            "type": "mesh3d"
           }
          ],
          "parcoords": [
           {
            "line": {
             "colorbar": {
              "outlinewidth": 0,
              "ticks": ""
             }
            },
            "type": "parcoords"
           }
          ],
          "pie": [
           {
            "automargin": true,
            "type": "pie"
           }
          ],
          "scatter": [
           {
            "fillpattern": {
             "fillmode": "overlay",
             "size": 10,
             "solidity": 0.2
            },
            "type": "scatter"
           }
          ],
          "scatter3d": [
           {
            "line": {
             "colorbar": {
              "outlinewidth": 0,
              "ticks": ""
             }
            },
            "marker": {
             "colorbar": {
              "outlinewidth": 0,
              "ticks": ""
             }
            },
            "type": "scatter3d"
           }
          ],
          "scattercarpet": [
           {
            "marker": {
             "colorbar": {
              "outlinewidth": 0,
              "ticks": ""
             }
            },
            "type": "scattercarpet"
           }
          ],
          "scattergeo": [
           {
            "marker": {
             "colorbar": {
              "outlinewidth": 0,
              "ticks": ""
             }
            },
            "type": "scattergeo"
           }
          ],
          "scattergl": [
           {
            "marker": {
             "colorbar": {
              "outlinewidth": 0,
              "ticks": ""
             }
            },
            "type": "scattergl"
           }
          ],
          "scattermapbox": [
           {
            "marker": {
             "colorbar": {
              "outlinewidth": 0,
              "ticks": ""
             }
            },
            "type": "scattermapbox"
           }
          ],
          "scatterpolar": [
           {
            "marker": {
             "colorbar": {
              "outlinewidth": 0,
              "ticks": ""
             }
            },
            "type": "scatterpolar"
           }
          ],
          "scatterpolargl": [
           {
            "marker": {
             "colorbar": {
              "outlinewidth": 0,
              "ticks": ""
             }
            },
            "type": "scatterpolargl"
           }
          ],
          "scatterternary": [
           {
            "marker": {
             "colorbar": {
              "outlinewidth": 0,
              "ticks": ""
             }
            },
            "type": "scatterternary"
           }
          ],
          "surface": [
           {
            "colorbar": {
             "outlinewidth": 0,
             "ticks": ""
            },
            "colorscale": [
             [
              0,
              "#0d0887"
             ],
             [
              0.1111111111111111,
              "#46039f"
             ],
             [
              0.2222222222222222,
              "#7201a8"
             ],
             [
              0.3333333333333333,
              "#9c179e"
             ],
             [
              0.4444444444444444,
              "#bd3786"
             ],
             [
              0.5555555555555556,
              "#d8576b"
             ],
             [
              0.6666666666666666,
              "#ed7953"
             ],
             [
              0.7777777777777778,
              "#fb9f3a"
             ],
             [
              0.8888888888888888,
              "#fdca26"
             ],
             [
              1,
              "#f0f921"
             ]
            ],
            "type": "surface"
           }
          ],
          "table": [
           {
            "cells": {
             "fill": {
              "color": "#EBF0F8"
             },
             "line": {
              "color": "white"
             }
            },
            "header": {
             "fill": {
              "color": "#C8D4E3"
             },
             "line": {
              "color": "white"
             }
            },
            "type": "table"
           }
          ]
         },
         "layout": {
          "annotationdefaults": {
           "arrowcolor": "#2a3f5f",
           "arrowhead": 0,
           "arrowwidth": 1
          },
          "autotypenumbers": "strict",
          "coloraxis": {
           "colorbar": {
            "outlinewidth": 0,
            "ticks": ""
           }
          },
          "colorscale": {
           "diverging": [
            [
             0,
             "#8e0152"
            ],
            [
             0.1,
             "#c51b7d"
            ],
            [
             0.2,
             "#de77ae"
            ],
            [
             0.3,
             "#f1b6da"
            ],
            [
             0.4,
             "#fde0ef"
            ],
            [
             0.5,
             "#f7f7f7"
            ],
            [
             0.6,
             "#e6f5d0"
            ],
            [
             0.7,
             "#b8e186"
            ],
            [
             0.8,
             "#7fbc41"
            ],
            [
             0.9,
             "#4d9221"
            ],
            [
             1,
             "#276419"
            ]
           ],
           "sequential": [
            [
             0,
             "#0d0887"
            ],
            [
             0.1111111111111111,
             "#46039f"
            ],
            [
             0.2222222222222222,
             "#7201a8"
            ],
            [
             0.3333333333333333,
             "#9c179e"
            ],
            [
             0.4444444444444444,
             "#bd3786"
            ],
            [
             0.5555555555555556,
             "#d8576b"
            ],
            [
             0.6666666666666666,
             "#ed7953"
            ],
            [
             0.7777777777777778,
             "#fb9f3a"
            ],
            [
             0.8888888888888888,
             "#fdca26"
            ],
            [
             1,
             "#f0f921"
            ]
           ],
           "sequentialminus": [
            [
             0,
             "#0d0887"
            ],
            [
             0.1111111111111111,
             "#46039f"
            ],
            [
             0.2222222222222222,
             "#7201a8"
            ],
            [
             0.3333333333333333,
             "#9c179e"
            ],
            [
             0.4444444444444444,
             "#bd3786"
            ],
            [
             0.5555555555555556,
             "#d8576b"
            ],
            [
             0.6666666666666666,
             "#ed7953"
            ],
            [
             0.7777777777777778,
             "#fb9f3a"
            ],
            [
             0.8888888888888888,
             "#fdca26"
            ],
            [
             1,
             "#f0f921"
            ]
           ]
          },
          "colorway": [
           "#636efa",
           "#EF553B",
           "#00cc96",
           "#ab63fa",
           "#FFA15A",
           "#19d3f3",
           "#FF6692",
           "#B6E880",
           "#FF97FF",
           "#FECB52"
          ],
          "font": {
           "color": "#2a3f5f"
          },
          "geo": {
           "bgcolor": "white",
           "lakecolor": "white",
           "landcolor": "white",
           "showlakes": true,
           "showland": true,
           "subunitcolor": "#C8D4E3"
          },
          "hoverlabel": {
           "align": "left"
          },
          "hovermode": "closest",
          "mapbox": {
           "style": "light"
          },
          "paper_bgcolor": "white",
          "plot_bgcolor": "white",
          "polar": {
           "angularaxis": {
            "gridcolor": "#EBF0F8",
            "linecolor": "#EBF0F8",
            "ticks": ""
           },
           "bgcolor": "white",
           "radialaxis": {
            "gridcolor": "#EBF0F8",
            "linecolor": "#EBF0F8",
            "ticks": ""
           }
          },
          "scene": {
           "xaxis": {
            "backgroundcolor": "white",
            "gridcolor": "#DFE8F3",
            "gridwidth": 2,
            "linecolor": "#EBF0F8",
            "showbackground": true,
            "ticks": "",
            "zerolinecolor": "#EBF0F8"
           },
           "yaxis": {
            "backgroundcolor": "white",
            "gridcolor": "#DFE8F3",
            "gridwidth": 2,
            "linecolor": "#EBF0F8",
            "showbackground": true,
            "ticks": "",
            "zerolinecolor": "#EBF0F8"
           },
           "zaxis": {
            "backgroundcolor": "white",
            "gridcolor": "#DFE8F3",
            "gridwidth": 2,
            "linecolor": "#EBF0F8",
            "showbackground": true,
            "ticks": "",
            "zerolinecolor": "#EBF0F8"
           }
          },
          "shapedefaults": {
           "line": {
            "color": "#2a3f5f"
           }
          },
          "ternary": {
           "aaxis": {
            "gridcolor": "#DFE8F3",
            "linecolor": "#A2B1C6",
            "ticks": ""
           },
           "baxis": {
            "gridcolor": "#DFE8F3",
            "linecolor": "#A2B1C6",
            "ticks": ""
           },
           "bgcolor": "white",
           "caxis": {
            "gridcolor": "#DFE8F3",
            "linecolor": "#A2B1C6",
            "ticks": ""
           }
          },
          "title": {
           "x": 0.05
          },
          "xaxis": {
           "automargin": true,
           "gridcolor": "#EBF0F8",
           "linecolor": "#EBF0F8",
           "ticks": "",
           "title": {
            "standoff": 15
           },
           "zerolinecolor": "#EBF0F8",
           "zerolinewidth": 2
          },
          "yaxis": {
           "automargin": true,
           "gridcolor": "#EBF0F8",
           "linecolor": "#EBF0F8",
           "ticks": "",
           "title": {
            "standoff": 15
           },
           "zerolinecolor": "#EBF0F8",
           "zerolinewidth": 2
          }
         }
        },
        "title": {
         "text": "Desempenho Total por Estado (Vendas + Caução)"
        },
        "width": 800,
        "xaxis": {
         "autorange": true,
         "range": [
          -1.6712730318257956,
          27.671273031825795
         ],
         "tickangle": -90,
         "title": {
          "text": "Estado"
         },
         "type": "category"
        },
        "yaxis": {
         "autorange": true,
         "range": [
          -16387.675350701404,
          380494.0881763527
         ],
         "title": {
          "text": "Desempenho (R$)"
         },
         "type": "linear"
        }
       }
      },
      "image/png": "[encoded data removed]",
      "text/html": [
       "<div>                            <div id=\"fc774717-41fe-43b0-9a58-5269f7d0e014\" class=\"plotly-graph-div\" style=\"height:600px; width:800px;\"></div>            <script type=\"text/javascript\">                require([\"plotly\"], function(Plotly) {                    window.PLOTLYENV=window.PLOTLYENV || {};                                    if (document.getElementById(\"fc774717-41fe-43b0-9a58-5269f7d0e014\")) {                    Plotly.newPlot(                        \"fc774717-41fe-43b0-9a58-5269f7d0e014\",                        [{\"marker\":{\"color\":\"lightgray\"},\"name\":\"Total Desempenho\",\"x\":[\"SP\",\"MG\",\"SC\",\"PE\",\"RS\",\"BA\",\"PR\",\"ES\",\"AL\",\"PA\",\"AM\",\"GO\",\"CE\",\"MT\",\"MA\",\"PI\",\"RN\",\"DF\",\"PB\",\"SE\",\"MS\",\"TO\",\"RJ\",\"AP\",\"AC\",\"RR\",\"RO\"],\"y\":[360650.0,273950.0,247050.0,194800.0,158700.0,155300.0,132750.0,101700.0,99200.0,96900.0,86200.0,70900.0,70100.0,54100.0,44700.0,38700.0,35500.0,34800.0,33720.0,33600.0,33150.0,31800.0,31800.0,26100.0,23300.0,19400.0,17750.0],\"type\":\"bar\"},{\"line\":{\"color\":\"#008b2f\",\"dash\":\"dash\"},\"marker\":{\"symbol\":\"circle\"},\"mode\":\"lines+markers\",\"name\":\"Vendas\",\"x\":[\"SP\",\"MG\",\"SC\",\"PE\",\"RS\",\"BA\",\"PR\",\"ES\",\"AL\",\"PA\",\"AM\",\"GO\",\"CE\",\"MT\",\"MA\",\"PI\",\"RN\",\"DF\",\"PB\",\"SE\",\"MS\",\"TO\",\"RJ\",\"AP\",\"AC\",\"RR\",\"RO\"],\"y\":[296500.0,222000.0,180000.0,118500.0,144500.0,82300.0,67000.0,78500.0,39500.0,82000.0,69600.0,50500.0,51500.0,38900.0,32000.0,27500.0,20500.0,21500.0,19020.0,19000.0,18000.0,23500.0,20500.0,12500.0,13000.0,12200.0,7000.0],\"type\":\"scatter\"},{\"line\":{\"color\":\"orange\"},\"marker\":{\"symbol\":\"square\"},\"mode\":\"lines+markers\",\"name\":\"Cau\\u00e7\\u00e3o\",\"x\":[\"SP\",\"MG\",\"SC\",\"PE\",\"RS\",\"BA\",\"PR\",\"ES\",\"AL\",\"PA\",\"AM\",\"GO\",\"CE\",\"MT\",\"MA\",\"PI\",\"RN\",\"DF\",\"PB\",\"SE\",\"MS\",\"TO\",\"RJ\",\"AP\",\"AC\",\"RR\",\"RO\"],\"y\":[64150.0,51950.0,67050.0,76300.0,14200.0,73000.0,65750.0,23200.0,59700.0,14900.0,16600.0,20400.0,18600.0,15200.0,12700.0,11200.0,15000.0,13300.0,14700.0,14600.0,15150.0,8300.0,11300.0,13600.0,10300.0,7200.0,10750.0],\"type\":\"scatter\"}],                        {\"template\":{\"data\":{\"barpolar\":[{\"marker\":{\"line\":{\"color\":\"white\",\"width\":0.5},\"pattern\":{\"fillmode\":\"overlay\",\"size\":10,\"solidity\":0.2}},\"type\":\"barpolar\"}],\"bar\":[{\"error_x\":{\"color\":\"#2a3f5f\"},\"error_y\":{\"color\":\"#2a3f5f\"},\"marker\":{\"line\":{\"color\":\"white\",\"width\":0.5},\"pattern\":{\"fillmode\":\"overlay\",\"size\":10,\"solidity\":0.2}},\"type\":\"bar\"}],\"carpet\":[{\"aaxis\":{\"endlinecolor\":\"#2a3f5f\",\"gridcolor\":\"#C8D4E3\",\"linecolor\":\"#C8D4E3\",\"minorgridcolor\":\"#C8D4E3\",\"startlinecolor\":\"#2a3f5f\"},\"baxis\":{\"endlinecolor\":\"#2a3f5f\",\"gridcolor\":\"#C8D4E3\",\"linecolor\":\"#C8D4E3\",\"minorgridcolor\":\"#C8D4E3\",\"startlinecolor\":\"#2a3f5f\"},\"type\":\"carpet\"}],\"choropleth\":[{\"colorbar\":{\"outlinewidth\":0,\"ticks\":\"\"},\"type\":\"choropleth\"}],\"contourcarpet\":[{\"colorbar\":{\"outlinewidth\":0,\"ticks\":\"\"},\"type\":\"contourcarpet\"}],\"contour\":[{\"colorbar\":{\"outlinewidth\":0,\"ticks\":\"\"},\"colorscale\":[[0.0,\"#0d0887\"],[0.1111111111111111,\"#46039f\"],[0.2222222222222222,\"#7201a8\"],[0.3333333333333333,\"#9c179e\"],[0.4444444444444444,\"#bd3786\"],[0.5555555555555556,\"#d8576b\"],[0.6666666666666666,\"#ed7953\"],[0.7777777777777778,\"#fb9f3a\"],[0.8888888888888888,\"#fdca26\"],[1.0,\"#f0f921\"]],\"type\":\"contour\"}],\"heatmapgl\":[{\"colorbar\":{\"outlinewidth\":0,\"ticks\":\"\"},\"colorscale\":[[0.0,\"#0d0887\"],[0.1111111111111111,\"#46039f\"],[0.2222222222222222,\"#7201a8\"],[0.3333333333333333,\"#9c179e\"],[0.4444444444444444,\"#bd3786\"],[0.5555555555555556,\"#d8576b\"],[0.6666666666666666,\"#ed7953\"],[0.7777777777777778,\"#fb9f3a\"],[0.8888888888888888,\"#fdca26\"],[1.0,\"#f0f921\"]],\"type\":\"heatmapgl\"}],\"heatmap\":[{\"colorbar\":{\"outlinewidth\":0,\"ticks\":\"\"},\"colorscale\":[[0.0,\"#0d0887\"],[0.1111111111111111,\"#46039f\"],[0.2222222222222222,\"#7201a8\"],[0.3333333333333333,\"#9c179e\"],[0.4444444444444444,\"#bd3786\"],[0.5555555555555556,\"#d8576b\"],[0.6666666666666666,\"#ed7953\"],[0.7777777777777778,\"#fb9f3a\"],[0.8888888888888888,\"#fdca26\"],[1.0,\"#f0f921\"]],\"type\":\"heatmap\"}],\"histogram2dcontour\":[{\"colorbar\":{\"outlinewidth\":0,\"ticks\":\"\"},\"colorscale\":[[0.0,\"#0d0887\"],[0.1111111111111111,\"#46039f\"],[0.2222222222222222,\"#7201a8\"],[0.3333333333333333,\"#9c179e\"],[0.4444444444444444,\"#bd3786\"],[0.5555555555555556,\"#d8576b\"],[0.6666666666666666,\"#ed7953\"],[0.7777777777777778,\"#fb9f3a\"],[0.8888888888888888,\"#fdca26\"],[1.0,\"#f0f921\"]],\"type\":\"histogram2dcontour\"}],\"histogram2d\":[{\"colorbar\":{\"outlinewidth\":0,\"ticks\":\"\"},\"colorscale\":[[0.0,\"#0d0887\"],[0.1111111111111111,\"#46039f\"],[0.2222222222222222,\"#7201a8\"],[0.3333333333333333,\"#9c179e\"],[0.4444444444444444,\"#bd3786\"],[0.5555555555555556,\"#d8576b\"],[0.6666666666666666,\"#ed7953\"],[0.7777777777777778,\"#fb9f3a\"],[0.8888888888888888,\"#fdca26\"],[1.0,\"#f0f921\"]],\"type\":\"histogram2d\"}],\"histogram\":[{\"marker\":{\"pattern\":{\"fillmode\":\"overlay\",\"size\":10,\"solidity\":0.2}},\"type\":\"histogram\"}],\"mesh3d\":[{\"colorbar\":{\"outlinewidth\":0,\"ticks\":\"\"},\"type\":\"mesh3d\"}],\"parcoords\":[{\"line\":{\"colorbar\":{\"outlinewidth\":0,\"ticks\":\"\"}},\"type\":\"parcoords\"}],\"pie\":[{\"automargin\":true,\"type\":\"pie\"}],\"scatter3d\":[{\"line\":{\"colorbar\":{\"outlinewidth\":0,\"ticks\":\"\"}},\"marker\":{\"colorbar\":{\"outlinewidth\":0,\"ticks\":\"\"}},\"type\":\"scatter3d\"}],\"scattercarpet\":[{\"marker\":{\"colorbar\":{\"outlinewidth\":0,\"ticks\":\"\"}},\"type\":\"scattercarpet\"}],\"scattergeo\":[{\"marker\":{\"colorbar\":{\"outlinewidth\":0,\"ticks\":\"\"}},\"type\":\"scattergeo\"}],\"scattergl\":[{\"marker\":{\"colorbar\":{\"outlinewidth\":0,\"ticks\":\"\"}},\"type\":\"scattergl\"}],\"scattermapbox\":[{\"marker\":{\"colorbar\":{\"outlinewidth\":0,\"ticks\":\"\"}},\"type\":\"scattermapbox\"}],\"scatterpolargl\":[{\"marker\":{\"colorbar\":{\"outlinewidth\":0,\"ticks\":\"\"}},\"type\":\"scatterpolargl\"}],\"scatterpolar\":[{\"marker\":{\"colorbar\":{\"outlinewidth\":0,\"ticks\":\"\"}},\"type\":\"scatterpolar\"}],\"scatter\":[{\"fillpattern\":{\"fillmode\":\"overlay\",\"size\":10,\"solidity\":0.2},\"type\":\"scatter\"}],\"scatterternary\":[{\"marker\":{\"colorbar\":{\"outlinewidth\":0,\"ticks\":\"\"}},\"type\":\"scatterternary\"}],\"surface\":[{\"colorbar\":{\"outlinewidth\":0,\"ticks\":\"\"},\"colorscale\":[[0.0,\"#0d0887\"],[0.1111111111111111,\"#46039f\"],[0.2222222222222222,\"#7201a8\"],[0.3333333333333333,\"#9c179e\"],[0.4444444444444444,\"#bd3786\"],[0.5555555555555556,\"#d8576b\"],[0.6666666666666666,\"#ed7953\"],[0.7777777777777778,\"#fb9f3a\"],[0.8888888888888888,\"#fdca26\"],[1.0,\"#f0f921\"]],\"type\":\"surface\"}],\"table\":[{\"cells\":{\"fill\":{\"color\":\"#EBF0F8\"},\"line\":{\"color\":\"white\"}},\"header\":{\"fill\":{\"color\":\"#C8D4E3\"},\"line\":{\"color\":\"white\"}},\"type\":\"table\"}]},\"layout\":{\"annotationdefaults\":{\"arrowcolor\":\"#2a3f5f\",\"arrowhead\":0,\"arrowwidth\":1},\"autotypenumbers\":\"strict\",\"coloraxis\":{\"colorbar\":{\"outlinewidth\":0,\"ticks\":\"\"}},\"colorscale\":{\"diverging\":[[0,\"#8e0152\"],[0.1,\"#c51b7d\"],[0.2,\"#de77ae\"],[0.3,\"#f1b6da\"],[0.4,\"#fde0ef\"],[0.5,\"#f7f7f7\"],[0.6,\"#e6f5d0\"],[0.7,\"#b8e186\"],[0.8,\"#7fbc41\"],[0.9,\"#4d9221\"],[1,\"#276419\"]],\"sequential\":[[0.0,\"#0d0887\"],[0.1111111111111111,\"#46039f\"],[0.2222222222222222,\"#7201a8\"],[0.3333333333333333,\"#9c179e\"],[0.4444444444444444,\"#bd3786\"],[0.5555555555555556,\"#d8576b\"],[0.6666666666666666,\"#ed7953\"],[0.7777777777777778,\"#fb9f3a\"],[0.8888888888888888,\"#fdca26\"],[1.0,\"#f0f921\"]],\"sequentialminus\":[[0.0,\"#0d0887\"],[0.1111111111111111,\"#46039f\"],[0.2222222222222222,\"#7201a8\"],[0.3333333333333333,\"#9c179e\"],[0.4444444444444444,\"#bd3786\"],[0.5555555555555556,\"#d8576b\"],[0.6666666666666666,\"#ed7953\"],[0.7777777777777778,\"#fb9f3a\"],[0.8888888888888888,\"#fdca26\"],[1.0,\"#f0f921\"]]},\"colorway\":[\"#636efa\",\"#EF553B\",\"#00cc96\",\"#ab63fa\",\"#FFA15A\",\"#19d3f3\",\"#FF6692\",\"#B6E880\",\"#FF97FF\",\"#FECB52\"],\"font\":{\"color\":\"#2a3f5f\"},\"geo\":{\"bgcolor\":\"white\",\"lakecolor\":\"white\",\"landcolor\":\"white\",\"showlakes\":true,\"showland\":true,\"subunitcolor\":\"#C8D4E3\"},\"hoverlabel\":{\"align\":\"left\"},\"hovermode\":\"closest\",\"mapbox\":{\"style\":\"light\"},\"paper_bgcolor\":\"white\",\"plot_bgcolor\":\"white\",\"polar\":{\"angularaxis\":{\"gridcolor\":\"#EBF0F8\",\"linecolor\":\"#EBF0F8\",\"ticks\":\"\"},\"bgcolor\":\"white\",\"radialaxis\":{\"gridcolor\":\"#EBF0F8\",\"linecolor\":\"#EBF0F8\",\"ticks\":\"\"}},\"scene\":{\"xaxis\":{\"backgroundcolor\":\"white\",\"gridcolor\":\"#DFE8F3\",\"gridwidth\":2,\"linecolor\":\"#EBF0F8\",\"showbackground\":true,\"ticks\":\"\",\"zerolinecolor\":\"#EBF0F8\"},\"yaxis\":{\"backgroundcolor\":\"white\",\"gridcolor\":\"#DFE8F3\",\"gridwidth\":2,\"linecolor\":\"#EBF0F8\",\"showbackground\":true,\"ticks\":\"\",\"zerolinecolor\":\"#EBF0F8\"},\"zaxis\":{\"backgroundcolor\":\"white\",\"gridcolor\":\"#DFE8F3\",\"gridwidth\":2,\"linecolor\":\"#EBF0F8\",\"showbackground\":true,\"ticks\":\"\",\"zerolinecolor\":\"#EBF0F8\"}},\"shapedefaults\":{\"line\":{\"color\":\"#2a3f5f\"}},\"ternary\":{\"aaxis\":{\"gridcolor\":\"#DFE8F3\",\"linecolor\":\"#A2B1C6\",\"ticks\":\"\"},\"baxis\":{\"gridcolor\":\"#DFE8F3\",\"linecolor\":\"#A2B1C6\",\"ticks\":\"\"},\"bgcolor\":\"white\",\"caxis\":{\"gridcolor\":\"#DFE8F3\",\"linecolor\":\"#A2B1C6\",\"ticks\":\"\"}},\"title\":{\"x\":0.05},\"xaxis\":{\"automargin\":true,\"gridcolor\":\"#EBF0F8\",\"linecolor\":\"#EBF0F8\",\"ticks\":\"\",\"title\":{\"standoff\":15},\"zerolinecolor\":\"#EBF0F8\",\"zerolinewidth\":2},\"yaxis\":{\"automargin\":true,\"gridcolor\":\"#EBF0F8\",\"linecolor\":\"#EBF0F8\",\"ticks\":\"\",\"title\":{\"standoff\":15},\"zerolinecolor\":\"#EBF0F8\",\"zerolinewidth\":2}}},\"xaxis\":{\"title\":{\"text\":\"Estado\"},\"tickangle\":-90},\"title\":{\"text\":\"Desempenho Total por Estado (Vendas + Cau\\u00e7\\u00e3o)\"},\"yaxis\":{\"title\":{\"text\":\"Desempenho (R$)\"}},\"legend\":{\"title\":{\"text\":\"M\\u00e9tricas\"}},\"width\":800,\"height\":600},                        {\"responsive\": true}                    ).then(function(){\n",
       "                            \n",
       "var gd = document.getElementById('fc774717-41fe-43b0-9a58-5269f7d0e014');\n",
       "var x = new MutationObserver(function (mutations, observer) {{\n",
       "        var display = window.getComputedStyle(gd).display;\n",
       "        if (!display || display === 'none') {{\n",
       "            console.log([gd, 'removed!']);\n",
       "            Plotly.purge(gd);\n",
       "            observer.disconnect();\n",
       "        }}\n",
       "}});\n",
       "\n",
       "// Listen for the removal of the full notebook cells\n",
       "var notebookContainer = gd.closest('#notebook-container');\n",
       "if (notebookContainer) {{\n",
       "    x.observe(notebookContainer, {childList: true});\n",
       "}}\n",
       "\n",
       "// Listen for the clearing of the current output cell\n",
       "var outputEl = gd.closest('.output');\n",
       "if (outputEl) {{\n",
       "    x.observe(outputEl, {childList: true});\n",
       "}}\n",
       "\n",
       "                        })                };                });            </script>        </div>"
      ]
     },
     "metadata": {},
     "output_type": "display_data"
    }
   ],
   "source": [
    "import plotly.graph_objects as go\n",
    "\n",
    "# Função para criar gráfico interativo\n",
    "def plota_graficos_interativo(desempenho):\n",
    "    estados = desempenho.index\n",
    "    total_desempenho = desempenho['Total Desempenho']\n",
    "    vendas = desempenho['Valor de Entrada']\n",
    "    caucao = desempenho['Caução']\n",
    "\n",
    "    # Criando gráfico de barras para Total Desempenho\n",
    "    fig = go.Figure()\n",
    "\n",
    "    fig.add_trace(go.Bar(\n",
    "        x=estados, \n",
    "        y=total_desempenho, \n",
    "        name='Total Desempenho', \n",
    "        marker_color='lightgray'\n",
    "    ))\n",
    "\n",
    "    # Adicionando as linhas para Vendas e Caução\n",
    "    fig.add_trace(go.Scatter(\n",
    "        x=estados, \n",
    "        y=vendas, \n",
    "        name='Vendas', \n",
    "        mode='lines+markers',\n",
    "        line=dict(color='#008b2f', dash='dash'),\n",
    "        marker=dict(symbol='circle')\n",
    "    ))\n",
    "\n",
    "    fig.add_trace(go.Scatter(\n",
    "        x=estados, \n",
    "        y=caucao, \n",
    "        name='Caução', \n",
    "        mode='lines+markers',\n",
    "        line=dict(color='orange'),\n",
    "        marker=dict(symbol='square')\n",
    "    ))\n",
    "\n",
    "    # Ajustando os títulos e layout\n",
    "    fig.update_layout(\n",
    "        title='Desempenho Total por Estado (Vendas + Caução)',\n",
    "        xaxis_title='Estado',\n",
    "        yaxis_title='Desempenho (R$)',\n",
    "        legend_title='Métricas',\n",
    "        xaxis_tickangle=-90,  # Rotaciona os nomes dos estados\n",
    "        template='plotly_white',  # Escolhe um tema para o gráfico\n",
    "        width=800, height=600\n",
    "    )\n",
    "\n",
    "    fig.show()\n",
    "\n",
    "# Exemplo de uso com df_sorted\n",
    "plota_graficos_interativo(desempenho)"
   ]
  },
  {
   "cell_type": "markdown",
   "id": "b0f24a65-0a7d-4ee5-b508-68cb3baa8855",
   "metadata": {},
   "source": [
    "Logo em seguida foi feita uma análise para avaliar o desempenho das filiais por estado, considerando a quantidade de transações de \"Aluguel\" e \"Venda\" (A/V). Permitindo uma visão clara do desempenho das filiais em termos de aluguéis e vendas.\n",
    "* Agrupando os dados por estado e tipo de transação (A/V) e contarndo quantas transações de cada tipo ocorreram.\n",
    "* Foi feito o Calculo total de transações por estado (somando aluguéis e vendas).\n",
    "* Foi ordenado os estados com base no total de transações, para destacar os que têm maior volume de operações."
   ]
  },
  {
   "cell_type": "code",
   "execution_count": 21,
   "id": "7eff2d43-7611-4c3d-83a5-8094b5762bd6",
   "metadata": {},
   "outputs": [
    {
     "data": {
      "text/html": [
       "<div>\n",
       "<style scoped>\n",
       "    .dataframe tbody tr th:only-of-type {\n",
       "        vertical-align: middle;\n",
       "    }\n",
       "\n",
       "    .dataframe tbody tr th {\n",
       "        vertical-align: top;\n",
       "    }\n",
       "\n",
       "    .dataframe thead th {\n",
       "        text-align: right;\n",
       "    }\n",
       "</style>\n",
       "<table border=\"1\" class=\"dataframe\">\n",
       "  <thead>\n",
       "    <tr style=\"text-align: right;\">\n",
       "      <th>A/V</th>\n",
       "      <th>Aluguel</th>\n",
       "      <th>Venda</th>\n",
       "      <th>Total</th>\n",
       "    </tr>\n",
       "    <tr>\n",
       "      <th>Estado</th>\n",
       "      <th></th>\n",
       "      <th></th>\n",
       "      <th></th>\n",
       "    </tr>\n",
       "  </thead>\n",
       "  <tbody>\n",
       "    <tr>\n",
       "      <th>SP</th>\n",
       "      <td>108</td>\n",
       "      <td>134</td>\n",
       "      <td>242</td>\n",
       "    </tr>\n",
       "    <tr>\n",
       "      <th>SC</th>\n",
       "      <td>118</td>\n",
       "      <td>76</td>\n",
       "      <td>194</td>\n",
       "    </tr>\n",
       "    <tr>\n",
       "      <th>MG</th>\n",
       "      <td>86</td>\n",
       "      <td>100</td>\n",
       "      <td>186</td>\n",
       "    </tr>\n",
       "    <tr>\n",
       "      <th>PE</th>\n",
       "      <td>127</td>\n",
       "      <td>52</td>\n",
       "      <td>179</td>\n",
       "    </tr>\n",
       "    <tr>\n",
       "      <th>BA</th>\n",
       "      <td>114</td>\n",
       "      <td>36</td>\n",
       "      <td>150</td>\n",
       "    </tr>\n",
       "    <tr>\n",
       "      <th>PR</th>\n",
       "      <td>102</td>\n",
       "      <td>28</td>\n",
       "      <td>130</td>\n",
       "    </tr>\n",
       "    <tr>\n",
       "      <th>AL</th>\n",
       "      <td>105</td>\n",
       "      <td>18</td>\n",
       "      <td>123</td>\n",
       "    </tr>\n",
       "    <tr>\n",
       "      <th>RS</th>\n",
       "      <td>22</td>\n",
       "      <td>68</td>\n",
       "      <td>90</td>\n",
       "    </tr>\n",
       "    <tr>\n",
       "      <th>ES</th>\n",
       "      <td>38</td>\n",
       "      <td>32</td>\n",
       "      <td>70</td>\n",
       "    </tr>\n",
       "    <tr>\n",
       "      <th>PA</th>\n",
       "      <td>26</td>\n",
       "      <td>35</td>\n",
       "      <td>61</td>\n",
       "    </tr>\n",
       "    <tr>\n",
       "      <th>AM</th>\n",
       "      <td>30</td>\n",
       "      <td>29</td>\n",
       "      <td>59</td>\n",
       "    </tr>\n",
       "    <tr>\n",
       "      <th>GO</th>\n",
       "      <td>34</td>\n",
       "      <td>22</td>\n",
       "      <td>56</td>\n",
       "    </tr>\n",
       "    <tr>\n",
       "      <th>CE</th>\n",
       "      <td>30</td>\n",
       "      <td>22</td>\n",
       "      <td>52</td>\n",
       "    </tr>\n",
       "    <tr>\n",
       "      <th>MT</th>\n",
       "      <td>24</td>\n",
       "      <td>17</td>\n",
       "      <td>41</td>\n",
       "    </tr>\n",
       "    <tr>\n",
       "      <th>RN</th>\n",
       "      <td>25</td>\n",
       "      <td>9</td>\n",
       "      <td>34</td>\n",
       "    </tr>\n",
       "    <tr>\n",
       "      <th>SE</th>\n",
       "      <td>24</td>\n",
       "      <td>9</td>\n",
       "      <td>33</td>\n",
       "    </tr>\n",
       "    <tr>\n",
       "      <th>MS</th>\n",
       "      <td>25</td>\n",
       "      <td>8</td>\n",
       "      <td>33</td>\n",
       "    </tr>\n",
       "    <tr>\n",
       "      <th>MA</th>\n",
       "      <td>19</td>\n",
       "      <td>13</td>\n",
       "      <td>32</td>\n",
       "    </tr>\n",
       "    <tr>\n",
       "      <th>DF</th>\n",
       "      <td>23</td>\n",
       "      <td>9</td>\n",
       "      <td>32</td>\n",
       "    </tr>\n",
       "    <tr>\n",
       "      <th>PB</th>\n",
       "      <td>23</td>\n",
       "      <td>9</td>\n",
       "      <td>32</td>\n",
       "    </tr>\n",
       "    <tr>\n",
       "      <th>PI</th>\n",
       "      <td>19</td>\n",
       "      <td>12</td>\n",
       "      <td>31</td>\n",
       "    </tr>\n",
       "    <tr>\n",
       "      <th>AP</th>\n",
       "      <td>22</td>\n",
       "      <td>6</td>\n",
       "      <td>28</td>\n",
       "    </tr>\n",
       "    <tr>\n",
       "      <th>RJ</th>\n",
       "      <td>19</td>\n",
       "      <td>9</td>\n",
       "      <td>28</td>\n",
       "    </tr>\n",
       "    <tr>\n",
       "      <th>TO</th>\n",
       "      <td>15</td>\n",
       "      <td>11</td>\n",
       "      <td>26</td>\n",
       "    </tr>\n",
       "    <tr>\n",
       "      <th>AC</th>\n",
       "      <td>17</td>\n",
       "      <td>6</td>\n",
       "      <td>23</td>\n",
       "    </tr>\n",
       "    <tr>\n",
       "      <th>RO</th>\n",
       "      <td>19</td>\n",
       "      <td>3</td>\n",
       "      <td>22</td>\n",
       "    </tr>\n",
       "    <tr>\n",
       "      <th>RR</th>\n",
       "      <td>12</td>\n",
       "      <td>5</td>\n",
       "      <td>17</td>\n",
       "    </tr>\n",
       "  </tbody>\n",
       "</table>\n",
       "</div>"
      ],
      "text/plain": [
       "A/V     Aluguel  Venda  Total\n",
       "Estado                       \n",
       "SP          108    134    242\n",
       "SC          118     76    194\n",
       "MG           86    100    186\n",
       "PE          127     52    179\n",
       "BA          114     36    150\n",
       "PR          102     28    130\n",
       "AL          105     18    123\n",
       "RS           22     68     90\n",
       "ES           38     32     70\n",
       "PA           26     35     61\n",
       "AM           30     29     59\n",
       "GO           34     22     56\n",
       "CE           30     22     52\n",
       "MT           24     17     41\n",
       "RN           25      9     34\n",
       "SE           24      9     33\n",
       "MS           25      8     33\n",
       "MA           19     13     32\n",
       "DF           23      9     32\n",
       "PB           23      9     32\n",
       "PI           19     12     31\n",
       "AP           22      6     28\n",
       "RJ           19      9     28\n",
       "TO           15     11     26\n",
       "AC           17      6     23\n",
       "RO           19      3     22\n",
       "RR           12      5     17"
      ]
     },
     "execution_count": 21,
     "metadata": {},
     "output_type": "execute_result"
    }
   ],
   "source": [
    "desempenho_filiais = df.groupby(['Estado', 'A/V']).size().unstack(fill_value=0)\n",
    "\n",
    "desempenho_filiais['Total'] = desempenho_filiais.sum(axis=1)\n",
    "desempenho_filiais_ordenado = desempenho_filiais.sort_values(by='Total', ascending=False)\n",
    "\n",
    "desempenho_filiais_ordenado"
   ]
  },
  {
   "cell_type": "markdown",
   "id": "cb71978c-798c-4456-bd73-cd375ede013b",
   "metadata": {},
   "source": [
    "Em seguida quis plotar um gráfico para ficar mais fácil a visualização dos dados obtidos no código anterior"
   ]
  },
  {
   "cell_type": "code",
   "execution_count": 43,
   "id": "a955b6f1-c4c3-4548-a438-89f83061f0b1",
   "metadata": {},
   "outputs": [
    {
     "data": {
      "image/png": "[encoded data removed]",
      "text/plain": [
       "<Figure size 1200x600 with 1 Axes>"
      ]
     },
     "metadata": {},
     "output_type": "display_data"
    }
   ],
   "source": [
    "desempenho_filiais_ordenado[['Aluguel', 'Venda']].plot(kind='bar', stacked=True, figsize=(12, 6), color=['#008b2f', 'lightgray'])\n",
    "\n",
    "plt.title('Desempenho das Filiais (Número de Vendas e Aluguéis)')\n",
    "plt.xlabel('Estado')\n",
    "plt.ylabel('Número de Transações')\n",
    "plt.xticks(rotation=90)\n",
    "plt.legend(title='Tipo de Transação')\n",
    "plt.tight_layout()\n",
    "plt.show()"
   ]
  },
  {
   "cell_type": "markdown",
   "id": "eabe0621-f5d5-46f4-8bf2-c21141afba2a",
   "metadata": {},
   "source": [
    "Mesmo grafico anterior mas feito de modo interativo"
   ]
  },
  {
   "cell_type": "code",
   "execution_count": 35,
   "id": "8899ed02-38a8-4312-b65d-cebd8fb633ba",
   "metadata": {},
   "outputs": [
    {
     "data": {
      "application/vnd.plotly.v1+json": {
       "config": {
        "plotlyServerURL": "https://plot.ly"
       },
       "data": [
        {
         "marker": {
          "color": "lightgray"
         },
         "name": "Aluguel",
         "type": "bar",
         "x": [
          "SP",
          "SC",
          "MG",
          "PE",
          "BA",
          "PR",
          "AL",
          "RS",
          "ES",
          "PA",
          "AM",
          "GO",
          "CE",
          "MT",
          "RN",
          "SE",
          "MS",
          "MA",
          "DF",
          "PB",
          "PI",
          "AP",
          "RJ",
          "TO",
          "AC",
          "RO",
          "RR"
         ],
         "y": [
          108,
          118,
          86,
          127,
          114,
          102,
          105,
          22,
          38,
          26,
          30,
          34,
          30,
          24,
          25,
          24,
          25,
          19,
          23,
          23,
          19,
          22,
          19,
          15,
          17,
          19,
          12
         ]
        },
        {
         "marker": {
          "color": "#008b2f"
         },
         "name": "Venda",
         "type": "bar",
         "x": [
          "SP",
          "SC",
          "MG",
          "PE",
          "BA",
          "PR",
          "AL",
          "RS",
          "ES",
          "PA",
          "AM",
          "GO",
          "CE",
          "MT",
          "RN",
          "SE",
          "MS",
          "MA",
          "DF",
          "PB",
          "PI",
          "AP",
          "RJ",
          "TO",
          "AC",
          "RO",
          "RR"
         ],
         "y": [
          134,
          76,
          100,
          52,
          36,
          28,
          18,
          68,
          32,
          35,
          29,
          22,
          22,
          17,
          9,
          9,
          8,
          13,
          9,
          9,
          12,
          6,
          9,
          11,
          6,
          3,
          5
         ]
        }
       ],
       "layout": {
        "barmode": "stack",
        "height": 600,
        "legend": {
         "title": {
          "text": "Tipo de Transação"
         }
        },
        "template": {
         "data": {
          "bar": [
           {
            "error_x": {
             "color": "#2a3f5f"
            },
            "error_y": {
             "color": "#2a3f5f"
            },
            "marker": {
             "line": {
              "color": "white",
              "width": 0.5
             },
             "pattern": {
              "fillmode": "overlay",
              "size": 10,
              "solidity": 0.2
             }
            },
            "type": "bar"
           }
          ],
          "barpolar": [
           {
            "marker": {
             "line": {
              "color": "white",
              "width": 0.5
             },
             "pattern": {
              "fillmode": "overlay",
              "size": 10,
              "solidity": 0.2
             }
            },
            "type": "barpolar"
           }
          ],
          "carpet": [
           {
            "aaxis": {
             "endlinecolor": "#2a3f5f",
             "gridcolor": "#C8D4E3",
             "linecolor": "#C8D4E3",
             "minorgridcolor": "#C8D4E3",
             "startlinecolor": "#2a3f5f"
            },
            "baxis": {
             "endlinecolor": "#2a3f5f",
             "gridcolor": "#C8D4E3",
             "linecolor": "#C8D4E3",
             "minorgridcolor": "#C8D4E3",
             "startlinecolor": "#2a3f5f"
            },
            "type": "carpet"
           }
          ],
          "choropleth": [
           {
            "colorbar": {
             "outlinewidth": 0,
             "ticks": ""
            },
            "type": "choropleth"
           }
          ],
          "contour": [
           {
            "colorbar": {
             "outlinewidth": 0,
             "ticks": ""
            },
            "colorscale": [
             [
              0,
              "#0d0887"
             ],
             [
              0.1111111111111111,
              "#46039f"
             ],
             [
              0.2222222222222222,
              "#7201a8"
             ],
             [
              0.3333333333333333,
              "#9c179e"
             ],
             [
              0.4444444444444444,
              "#bd3786"
             ],
             [
              0.5555555555555556,
              "#d8576b"
             ],
             [
              0.6666666666666666,
              "#ed7953"
             ],
             [
              0.7777777777777778,
              "#fb9f3a"
             ],
             [
              0.8888888888888888,
              "#fdca26"
             ],
             [
              1,
              "#f0f921"
             ]
            ],
            "type": "contour"
           }
          ],
          "contourcarpet": [
           {
            "colorbar": {
             "outlinewidth": 0,
             "ticks": ""
            },
            "type": "contourcarpet"
           }
          ],
          "heatmap": [
           {
            "colorbar": {
             "outlinewidth": 0,
             "ticks": ""
            },
            "colorscale": [
             [
              0,
              "#0d0887"
             ],
             [
              0.1111111111111111,
              "#46039f"
             ],
             [
              0.2222222222222222,
              "#7201a8"
             ],
             [
              0.3333333333333333,
              "#9c179e"
             ],
             [
              0.4444444444444444,
              "#bd3786"
             ],
             [
              0.5555555555555556,
              "#d8576b"
             ],
             [
              0.6666666666666666,
              "#ed7953"
             ],
             [
              0.7777777777777778,
              "#fb9f3a"
             ],
             [
              0.8888888888888888,
              "#fdca26"
             ],
             [
              1,
              "#f0f921"
             ]
            ],
            "type": "heatmap"
           }
          ],
          "heatmapgl": [
           {
            "colorbar": {
             "outlinewidth": 0,
             "ticks": ""
            },
            "colorscale": [
             [
              0,
              "#0d0887"
             ],
             [
              0.1111111111111111,
              "#46039f"
             ],
             [
              0.2222222222222222,
              "#7201a8"
             ],
             [
              0.3333333333333333,
              "#9c179e"
             ],
             [
              0.4444444444444444,
              "#bd3786"
             ],
             [
              0.5555555555555556,
              "#d8576b"
             ],
             [
              0.6666666666666666,
              "#ed7953"
             ],
             [
              0.7777777777777778,
              "#fb9f3a"
             ],
             [
              0.8888888888888888,
              "#fdca26"
             ],
             [
              1,
              "#f0f921"
             ]
            ],
            "type": "heatmapgl"
           }
          ],
          "histogram": [
           {
            "marker": {
             "pattern": {
              "fillmode": "overlay",
              "size": 10,
              "solidity": 0.2
             }
            },
            "type": "histogram"
           }
          ],
          "histogram2d": [
           {
            "colorbar": {
             "outlinewidth": 0,
             "ticks": ""
            },
            "colorscale": [
             [
              0,
              "#0d0887"
             ],
             [
              0.1111111111111111,
              "#46039f"
             ],
             [
              0.2222222222222222,
              "#7201a8"
             ],
             [
              0.3333333333333333,
              "#9c179e"
             ],
             [
              0.4444444444444444,
              "#bd3786"
             ],
             [
              0.5555555555555556,
              "#d8576b"
             ],
             [
              0.6666666666666666,
              "#ed7953"
             ],
             [
              0.7777777777777778,
              "#fb9f3a"
             ],
             [
              0.8888888888888888,
              "#fdca26"
             ],
             [
              1,
              "#f0f921"
             ]
            ],
            "type": "histogram2d"
           }
          ],
          "histogram2dcontour": [
           {
            "colorbar": {
             "outlinewidth": 0,
             "ticks": ""
            },
            "colorscale": [
             [
              0,
              "#0d0887"
             ],
             [
              0.1111111111111111,
              "#46039f"
             ],
             [
              0.2222222222222222,
              "#7201a8"
             ],
             [
              0.3333333333333333,
              "#9c179e"
             ],
             [
              0.4444444444444444,
              "#bd3786"
             ],
             [
              0.5555555555555556,
              "#d8576b"
             ],
             [
              0.6666666666666666,
              "#ed7953"
             ],
             [
              0.7777777777777778,
              "#fb9f3a"
             ],
             [
              0.8888888888888888,
              "#fdca26"
             ],
             [
              1,
              "#f0f921"
             ]
            ],
            "type": "histogram2dcontour"
           }
          ],
          "mesh3d": [
           {
            "colorbar": {
             "outlinewidth": 0,
             "ticks": ""
            },
            "type": "mesh3d"
           }
          ],
          "parcoords": [
           {
            "line": {
             "colorbar": {
              "outlinewidth": 0,
              "ticks": ""
             }
            },
            "type": "parcoords"
           }
          ],
          "pie": [
           {
            "automargin": true,
            "type": "pie"
           }
          ],
          "scatter": [
           {
            "fillpattern": {
             "fillmode": "overlay",
             "size": 10,
             "solidity": 0.2
            },
            "type": "scatter"
           }
          ],
          "scatter3d": [
           {
            "line": {
             "colorbar": {
              "outlinewidth": 0,
              "ticks": ""
             }
            },
            "marker": {
             "colorbar": {
              "outlinewidth": 0,
              "ticks": ""
             }
            },
            "type": "scatter3d"
           }
          ],
          "scattercarpet": [
           {
            "marker": {
             "colorbar": {
              "outlinewidth": 0,
              "ticks": ""
             }
            },
            "type": "scattercarpet"
           }
          ],
          "scattergeo": [
           {
            "marker": {
             "colorbar": {
              "outlinewidth": 0,
              "ticks": ""
             }
            },
            "type": "scattergeo"
           }
          ],
          "scattergl": [
           {
            "marker": {
             "colorbar": {
              "outlinewidth": 0,
              "ticks": ""
             }
            },
            "type": "scattergl"
           }
          ],
          "scattermapbox": [
           {
            "marker": {
             "colorbar": {
              "outlinewidth": 0,
              "ticks": ""
             }
            },
            "type": "scattermapbox"
           }
          ],
          "scatterpolar": [
           {
            "marker": {
             "colorbar": {
              "outlinewidth": 0,
              "ticks": ""
             }
            },
            "type": "scatterpolar"
           }
          ],
          "scatterpolargl": [
           {
            "marker": {
             "colorbar": {
              "outlinewidth": 0,
              "ticks": ""
             }
            },
            "type": "scatterpolargl"
           }
          ],
          "scatterternary": [
           {
            "marker": {
             "colorbar": {
              "outlinewidth": 0,
              "ticks": ""
             }
            },
            "type": "scatterternary"
           }
          ],
          "surface": [
           {
            "colorbar": {
             "outlinewidth": 0,
             "ticks": ""
            },
            "colorscale": [
             [
              0,
              "#0d0887"
             ],
             [
              0.1111111111111111,
              "#46039f"
             ],
             [
              0.2222222222222222,
              "#7201a8"
             ],
             [
              0.3333333333333333,
              "#9c179e"
             ],
             [
              0.4444444444444444,
              "#bd3786"
             ],
             [
              0.5555555555555556,
              "#d8576b"
             ],
             [
              0.6666666666666666,
              "#ed7953"
             ],
             [
              0.7777777777777778,
              "#fb9f3a"
             ],
             [
              0.8888888888888888,
              "#fdca26"
             ],
             [
              1,
              "#f0f921"
             ]
            ],
            "type": "surface"
           }
          ],
          "table": [
           {
            "cells": {
             "fill": {
              "color": "#EBF0F8"
             },
             "line": {
              "color": "white"
             }
            },
            "header": {
             "fill": {
              "color": "#C8D4E3"
             },
             "line": {
              "color": "white"
             }
            },
            "type": "table"
           }
          ]
         },
         "layout": {
          "annotationdefaults": {
           "arrowcolor": "#2a3f5f",
           "arrowhead": 0,
           "arrowwidth": 1
          },
          "autotypenumbers": "strict",
          "coloraxis": {
           "colorbar": {
            "outlinewidth": 0,
            "ticks": ""
           }
          },
          "colorscale": {
           "diverging": [
            [
             0,
             "#8e0152"
            ],
            [
             0.1,
             "#c51b7d"
            ],
            [
             0.2,
             "#de77ae"
            ],
            [
             0.3,
             "#f1b6da"
            ],
            [
             0.4,
             "#fde0ef"
            ],
            [
             0.5,
             "#f7f7f7"
            ],
            [
             0.6,
             "#e6f5d0"
            ],
            [
             0.7,
             "#b8e186"
            ],
            [
             0.8,
             "#7fbc41"
            ],
            [
             0.9,
             "#4d9221"
            ],
            [
             1,
             "#276419"
            ]
           ],
           "sequential": [
            [
             0,
             "#0d0887"
            ],
            [
             0.1111111111111111,
             "#46039f"
            ],
            [
             0.2222222222222222,
             "#7201a8"
            ],
            [
             0.3333333333333333,
             "#9c179e"
            ],
            [
             0.4444444444444444,
             "#bd3786"
            ],
            [
             0.5555555555555556,
             "#d8576b"
            ],
            [
             0.6666666666666666,
             "#ed7953"
            ],
            [
             0.7777777777777778,
             "#fb9f3a"
            ],
            [
             0.8888888888888888,
             "#fdca26"
            ],
            [
             1,
             "#f0f921"
            ]
           ],
           "sequentialminus": [
            [
             0,
             "#0d0887"
            ],
            [
             0.1111111111111111,
             "#46039f"
            ],
            [
             0.2222222222222222,
             "#7201a8"
            ],
            [
             0.3333333333333333,
             "#9c179e"
            ],
            [
             0.4444444444444444,
             "#bd3786"
            ],
            [
             0.5555555555555556,
             "#d8576b"
            ],
            [
             0.6666666666666666,
             "#ed7953"
            ],
            [
             0.7777777777777778,
             "#fb9f3a"
            ],
            [
             0.8888888888888888,
             "#fdca26"
            ],
            [
             1,
             "#f0f921"
            ]
           ]
          },
          "colorway": [
           "#636efa",
           "#EF553B",
           "#00cc96",
           "#ab63fa",
           "#FFA15A",
           "#19d3f3",
           "#FF6692",
           "#B6E880",
           "#FF97FF",
           "#FECB52"
          ],
          "font": {
           "color": "#2a3f5f"
          },
          "geo": {
           "bgcolor": "white",
           "lakecolor": "white",
           "landcolor": "white",
           "showlakes": true,
           "showland": true,
           "subunitcolor": "#C8D4E3"
          },
          "hoverlabel": {
           "align": "left"
          },
          "hovermode": "closest",
          "mapbox": {
           "style": "light"
          },
          "paper_bgcolor": "white",
          "plot_bgcolor": "white",
          "polar": {
           "angularaxis": {
            "gridcolor": "#EBF0F8",
            "linecolor": "#EBF0F8",
            "ticks": ""
           },
           "bgcolor": "white",
           "radialaxis": {
            "gridcolor": "#EBF0F8",
            "linecolor": "#EBF0F8",
            "ticks": ""
           }
          },
          "scene": {
           "xaxis": {
            "backgroundcolor": "white",
            "gridcolor": "#DFE8F3",
            "gridwidth": 2,
            "linecolor": "#EBF0F8",
            "showbackground": true,
            "ticks": "",
            "zerolinecolor": "#EBF0F8"
           },
           "yaxis": {
            "backgroundcolor": "white",
            "gridcolor": "#DFE8F3",
            "gridwidth": 2,
            "linecolor": "#EBF0F8",
            "showbackground": true,
            "ticks": "",
            "zerolinecolor": "#EBF0F8"
           },
           "zaxis": {
            "backgroundcolor": "white",
            "gridcolor": "#DFE8F3",
            "gridwidth": 2,
            "linecolor": "#EBF0F8",
            "showbackground": true,
            "ticks": "",
            "zerolinecolor": "#EBF0F8"
           }
          },
          "shapedefaults": {
           "line": {
            "color": "#2a3f5f"
           }
          },
          "ternary": {
           "aaxis": {
            "gridcolor": "#DFE8F3",
            "linecolor": "#A2B1C6",
            "ticks": ""
           },
           "baxis": {
            "gridcolor": "#DFE8F3",
            "linecolor": "#A2B1C6",
            "ticks": ""
           },
           "bgcolor": "white",
           "caxis": {
            "gridcolor": "#DFE8F3",
            "linecolor": "#A2B1C6",
            "ticks": ""
           }
          },
          "title": {
           "x": 0.05
          },
          "xaxis": {
           "automargin": true,
           "gridcolor": "#EBF0F8",
           "linecolor": "#EBF0F8",
           "ticks": "",
           "title": {
            "standoff": 15
           },
           "zerolinecolor": "#EBF0F8",
           "zerolinewidth": 2
          },
          "yaxis": {
           "automargin": true,
           "gridcolor": "#EBF0F8",
           "linecolor": "#EBF0F8",
           "ticks": "",
           "title": {
            "standoff": 15
           },
           "zerolinecolor": "#EBF0F8",
           "zerolinewidth": 2
          }
         }
        },
        "title": {
         "text": "Desempenho das Filiais (Número de Vendas e Aluguéis)"
        },
        "width": 800,
        "xaxis": {
         "autorange": true,
         "range": [
          -0.5,
          26.5
         ],
         "tickangle": -90,
         "title": {
          "text": "Estado"
         },
         "type": "category"
        },
        "yaxis": {
         "autorange": true,
         "range": [
          0,
          254.73684210526315
         ],
         "title": {
          "text": "Número de Transações"
         },
         "type": "linear"
        }
       }
      },
      "image/png": "[encoded data removed]",
      "text/html": [
       "<div>                            <div id=\"f29f4090-3f11-4eda-94fd-34ac025a418f\" class=\"plotly-graph-div\" style=\"height:600px; width:800px;\"></div>            <script type=\"text/javascript\">                require([\"plotly\"], function(Plotly) {                    window.PLOTLYENV=window.PLOTLYENV || {};                                    if (document.getElementById(\"f29f4090-3f11-4eda-94fd-34ac025a418f\")) {                    Plotly.newPlot(                        \"f29f4090-3f11-4eda-94fd-34ac025a418f\",                        [{\"marker\":{\"color\":\"lightgray\"},\"name\":\"Aluguel\",\"x\":[\"SP\",\"SC\",\"MG\",\"PE\",\"BA\",\"PR\",\"AL\",\"RS\",\"ES\",\"PA\",\"AM\",\"GO\",\"CE\",\"MT\",\"RN\",\"SE\",\"MS\",\"MA\",\"DF\",\"PB\",\"PI\",\"AP\",\"RJ\",\"TO\",\"AC\",\"RO\",\"RR\"],\"y\":[108,118,86,127,114,102,105,22,38,26,30,34,30,24,25,24,25,19,23,23,19,22,19,15,17,19,12],\"type\":\"bar\"},{\"marker\":{\"color\":\"#008b2f\"},\"name\":\"Venda\",\"x\":[\"SP\",\"SC\",\"MG\",\"PE\",\"BA\",\"PR\",\"AL\",\"RS\",\"ES\",\"PA\",\"AM\",\"GO\",\"CE\",\"MT\",\"RN\",\"SE\",\"MS\",\"MA\",\"DF\",\"PB\",\"PI\",\"AP\",\"RJ\",\"TO\",\"AC\",\"RO\",\"RR\"],\"y\":[134,76,100,52,36,28,18,68,32,35,29,22,22,17,9,9,8,13,9,9,12,6,9,11,6,3,5],\"type\":\"bar\"}],                        {\"template\":{\"data\":{\"barpolar\":[{\"marker\":{\"line\":{\"color\":\"white\",\"width\":0.5},\"pattern\":{\"fillmode\":\"overlay\",\"size\":10,\"solidity\":0.2}},\"type\":\"barpolar\"}],\"bar\":[{\"error_x\":{\"color\":\"#2a3f5f\"},\"error_y\":{\"color\":\"#2a3f5f\"},\"marker\":{\"line\":{\"color\":\"white\",\"width\":0.5},\"pattern\":{\"fillmode\":\"overlay\",\"size\":10,\"solidity\":0.2}},\"type\":\"bar\"}],\"carpet\":[{\"aaxis\":{\"endlinecolor\":\"#2a3f5f\",\"gridcolor\":\"#C8D4E3\",\"linecolor\":\"#C8D4E3\",\"minorgridcolor\":\"#C8D4E3\",\"startlinecolor\":\"#2a3f5f\"},\"baxis\":{\"endlinecolor\":\"#2a3f5f\",\"gridcolor\":\"#C8D4E3\",\"linecolor\":\"#C8D4E3\",\"minorgridcolor\":\"#C8D4E3\",\"startlinecolor\":\"#2a3f5f\"},\"type\":\"carpet\"}],\"choropleth\":[{\"colorbar\":{\"outlinewidth\":0,\"ticks\":\"\"},\"type\":\"choropleth\"}],\"contourcarpet\":[{\"colorbar\":{\"outlinewidth\":0,\"ticks\":\"\"},\"type\":\"contourcarpet\"}],\"contour\":[{\"colorbar\":{\"outlinewidth\":0,\"ticks\":\"\"},\"colorscale\":[[0.0,\"#0d0887\"],[0.1111111111111111,\"#46039f\"],[0.2222222222222222,\"#7201a8\"],[0.3333333333333333,\"#9c179e\"],[0.4444444444444444,\"#bd3786\"],[0.5555555555555556,\"#d8576b\"],[0.6666666666666666,\"#ed7953\"],[0.7777777777777778,\"#fb9f3a\"],[0.8888888888888888,\"#fdca26\"],[1.0,\"#f0f921\"]],\"type\":\"contour\"}],\"heatmapgl\":[{\"colorbar\":{\"outlinewidth\":0,\"ticks\":\"\"},\"colorscale\":[[0.0,\"#0d0887\"],[0.1111111111111111,\"#46039f\"],[0.2222222222222222,\"#7201a8\"],[0.3333333333333333,\"#9c179e\"],[0.4444444444444444,\"#bd3786\"],[0.5555555555555556,\"#d8576b\"],[0.6666666666666666,\"#ed7953\"],[0.7777777777777778,\"#fb9f3a\"],[0.8888888888888888,\"#fdca26\"],[1.0,\"#f0f921\"]],\"type\":\"heatmapgl\"}],\"heatmap\":[{\"colorbar\":{\"outlinewidth\":0,\"ticks\":\"\"},\"colorscale\":[[0.0,\"#0d0887\"],[0.1111111111111111,\"#46039f\"],[0.2222222222222222,\"#7201a8\"],[0.3333333333333333,\"#9c179e\"],[0.4444444444444444,\"#bd3786\"],[0.5555555555555556,\"#d8576b\"],[0.6666666666666666,\"#ed7953\"],[0.7777777777777778,\"#fb9f3a\"],[0.8888888888888888,\"#fdca26\"],[1.0,\"#f0f921\"]],\"type\":\"heatmap\"}],\"histogram2dcontour\":[{\"colorbar\":{\"outlinewidth\":0,\"ticks\":\"\"},\"colorscale\":[[0.0,\"#0d0887\"],[0.1111111111111111,\"#46039f\"],[0.2222222222222222,\"#7201a8\"],[0.3333333333333333,\"#9c179e\"],[0.4444444444444444,\"#bd3786\"],[0.5555555555555556,\"#d8576b\"],[0.6666666666666666,\"#ed7953\"],[0.7777777777777778,\"#fb9f3a\"],[0.8888888888888888,\"#fdca26\"],[1.0,\"#f0f921\"]],\"type\":\"histogram2dcontour\"}],\"histogram2d\":[{\"colorbar\":{\"outlinewidth\":0,\"ticks\":\"\"},\"colorscale\":[[0.0,\"#0d0887\"],[0.1111111111111111,\"#46039f\"],[0.2222222222222222,\"#7201a8\"],[0.3333333333333333,\"#9c179e\"],[0.4444444444444444,\"#bd3786\"],[0.5555555555555556,\"#d8576b\"],[0.6666666666666666,\"#ed7953\"],[0.7777777777777778,\"#fb9f3a\"],[0.8888888888888888,\"#fdca26\"],[1.0,\"#f0f921\"]],\"type\":\"histogram2d\"}],\"histogram\":[{\"marker\":{\"pattern\":{\"fillmode\":\"overlay\",\"size\":10,\"solidity\":0.2}},\"type\":\"histogram\"}],\"mesh3d\":[{\"colorbar\":{\"outlinewidth\":0,\"ticks\":\"\"},\"type\":\"mesh3d\"}],\"parcoords\":[{\"line\":{\"colorbar\":{\"outlinewidth\":0,\"ticks\":\"\"}},\"type\":\"parcoords\"}],\"pie\":[{\"automargin\":true,\"type\":\"pie\"}],\"scatter3d\":[{\"line\":{\"colorbar\":{\"outlinewidth\":0,\"ticks\":\"\"}},\"marker\":{\"colorbar\":{\"outlinewidth\":0,\"ticks\":\"\"}},\"type\":\"scatter3d\"}],\"scattercarpet\":[{\"marker\":{\"colorbar\":{\"outlinewidth\":0,\"ticks\":\"\"}},\"type\":\"scattercarpet\"}],\"scattergeo\":[{\"marker\":{\"colorbar\":{\"outlinewidth\":0,\"ticks\":\"\"}},\"type\":\"scattergeo\"}],\"scattergl\":[{\"marker\":{\"colorbar\":{\"outlinewidth\":0,\"ticks\":\"\"}},\"type\":\"scattergl\"}],\"scattermapbox\":[{\"marker\":{\"colorbar\":{\"outlinewidth\":0,\"ticks\":\"\"}},\"type\":\"scattermapbox\"}],\"scatterpolargl\":[{\"marker\":{\"colorbar\":{\"outlinewidth\":0,\"ticks\":\"\"}},\"type\":\"scatterpolargl\"}],\"scatterpolar\":[{\"marker\":{\"colorbar\":{\"outlinewidth\":0,\"ticks\":\"\"}},\"type\":\"scatterpolar\"}],\"scatter\":[{\"fillpattern\":{\"fillmode\":\"overlay\",\"size\":10,\"solidity\":0.2},\"type\":\"scatter\"}],\"scatterternary\":[{\"marker\":{\"colorbar\":{\"outlinewidth\":0,\"ticks\":\"\"}},\"type\":\"scatterternary\"}],\"surface\":[{\"colorbar\":{\"outlinewidth\":0,\"ticks\":\"\"},\"colorscale\":[[0.0,\"#0d0887\"],[0.1111111111111111,\"#46039f\"],[0.2222222222222222,\"#7201a8\"],[0.3333333333333333,\"#9c179e\"],[0.4444444444444444,\"#bd3786\"],[0.5555555555555556,\"#d8576b\"],[0.6666666666666666,\"#ed7953\"],[0.7777777777777778,\"#fb9f3a\"],[0.8888888888888888,\"#fdca26\"],[1.0,\"#f0f921\"]],\"type\":\"surface\"}],\"table\":[{\"cells\":{\"fill\":{\"color\":\"#EBF0F8\"},\"line\":{\"color\":\"white\"}},\"header\":{\"fill\":{\"color\":\"#C8D4E3\"},\"line\":{\"color\":\"white\"}},\"type\":\"table\"}]},\"layout\":{\"annotationdefaults\":{\"arrowcolor\":\"#2a3f5f\",\"arrowhead\":0,\"arrowwidth\":1},\"autotypenumbers\":\"strict\",\"coloraxis\":{\"colorbar\":{\"outlinewidth\":0,\"ticks\":\"\"}},\"colorscale\":{\"diverging\":[[0,\"#8e0152\"],[0.1,\"#c51b7d\"],[0.2,\"#de77ae\"],[0.3,\"#f1b6da\"],[0.4,\"#fde0ef\"],[0.5,\"#f7f7f7\"],[0.6,\"#e6f5d0\"],[0.7,\"#b8e186\"],[0.8,\"#7fbc41\"],[0.9,\"#4d9221\"],[1,\"#276419\"]],\"sequential\":[[0.0,\"#0d0887\"],[0.1111111111111111,\"#46039f\"],[0.2222222222222222,\"#7201a8\"],[0.3333333333333333,\"#9c179e\"],[0.4444444444444444,\"#bd3786\"],[0.5555555555555556,\"#d8576b\"],[0.6666666666666666,\"#ed7953\"],[0.7777777777777778,\"#fb9f3a\"],[0.8888888888888888,\"#fdca26\"],[1.0,\"#f0f921\"]],\"sequentialminus\":[[0.0,\"#0d0887\"],[0.1111111111111111,\"#46039f\"],[0.2222222222222222,\"#7201a8\"],[0.3333333333333333,\"#9c179e\"],[0.4444444444444444,\"#bd3786\"],[0.5555555555555556,\"#d8576b\"],[0.6666666666666666,\"#ed7953\"],[0.7777777777777778,\"#fb9f3a\"],[0.8888888888888888,\"#fdca26\"],[1.0,\"#f0f921\"]]},\"colorway\":[\"#636efa\",\"#EF553B\",\"#00cc96\",\"#ab63fa\",\"#FFA15A\",\"#19d3f3\",\"#FF6692\",\"#B6E880\",\"#FF97FF\",\"#FECB52\"],\"font\":{\"color\":\"#2a3f5f\"},\"geo\":{\"bgcolor\":\"white\",\"lakecolor\":\"white\",\"landcolor\":\"white\",\"showlakes\":true,\"showland\":true,\"subunitcolor\":\"#C8D4E3\"},\"hoverlabel\":{\"align\":\"left\"},\"hovermode\":\"closest\",\"mapbox\":{\"style\":\"light\"},\"paper_bgcolor\":\"white\",\"plot_bgcolor\":\"white\",\"polar\":{\"angularaxis\":{\"gridcolor\":\"#EBF0F8\",\"linecolor\":\"#EBF0F8\",\"ticks\":\"\"},\"bgcolor\":\"white\",\"radialaxis\":{\"gridcolor\":\"#EBF0F8\",\"linecolor\":\"#EBF0F8\",\"ticks\":\"\"}},\"scene\":{\"xaxis\":{\"backgroundcolor\":\"white\",\"gridcolor\":\"#DFE8F3\",\"gridwidth\":2,\"linecolor\":\"#EBF0F8\",\"showbackground\":true,\"ticks\":\"\",\"zerolinecolor\":\"#EBF0F8\"},\"yaxis\":{\"backgroundcolor\":\"white\",\"gridcolor\":\"#DFE8F3\",\"gridwidth\":2,\"linecolor\":\"#EBF0F8\",\"showbackground\":true,\"ticks\":\"\",\"zerolinecolor\":\"#EBF0F8\"},\"zaxis\":{\"backgroundcolor\":\"white\",\"gridcolor\":\"#DFE8F3\",\"gridwidth\":2,\"linecolor\":\"#EBF0F8\",\"showbackground\":true,\"ticks\":\"\",\"zerolinecolor\":\"#EBF0F8\"}},\"shapedefaults\":{\"line\":{\"color\":\"#2a3f5f\"}},\"ternary\":{\"aaxis\":{\"gridcolor\":\"#DFE8F3\",\"linecolor\":\"#A2B1C6\",\"ticks\":\"\"},\"baxis\":{\"gridcolor\":\"#DFE8F3\",\"linecolor\":\"#A2B1C6\",\"ticks\":\"\"},\"bgcolor\":\"white\",\"caxis\":{\"gridcolor\":\"#DFE8F3\",\"linecolor\":\"#A2B1C6\",\"ticks\":\"\"}},\"title\":{\"x\":0.05},\"xaxis\":{\"automargin\":true,\"gridcolor\":\"#EBF0F8\",\"linecolor\":\"#EBF0F8\",\"ticks\":\"\",\"title\":{\"standoff\":15},\"zerolinecolor\":\"#EBF0F8\",\"zerolinewidth\":2},\"yaxis\":{\"automargin\":true,\"gridcolor\":\"#EBF0F8\",\"linecolor\":\"#EBF0F8\",\"ticks\":\"\",\"title\":{\"standoff\":15},\"zerolinecolor\":\"#EBF0F8\",\"zerolinewidth\":2}}},\"xaxis\":{\"title\":{\"text\":\"Estado\"},\"tickangle\":-90},\"barmode\":\"stack\",\"title\":{\"text\":\"Desempenho das Filiais (N\\u00famero de Vendas e Alugu\\u00e9is)\"},\"yaxis\":{\"title\":{\"text\":\"N\\u00famero de Transa\\u00e7\\u00f5es\"}},\"legend\":{\"title\":{\"text\":\"Tipo de Transa\\u00e7\\u00e3o\"}},\"width\":800,\"height\":600},                        {\"responsive\": true}                    ).then(function(){\n",
       "                            \n",
       "var gd = document.getElementById('f29f4090-3f11-4eda-94fd-34ac025a418f');\n",
       "var x = new MutationObserver(function (mutations, observer) {{\n",
       "        var display = window.getComputedStyle(gd).display;\n",
       "        if (!display || display === 'none') {{\n",
       "            console.log([gd, 'removed!']);\n",
       "            Plotly.purge(gd);\n",
       "            observer.disconnect();\n",
       "        }}\n",
       "}});\n",
       "\n",
       "// Listen for the removal of the full notebook cells\n",
       "var notebookContainer = gd.closest('#notebook-container');\n",
       "if (notebookContainer) {{\n",
       "    x.observe(notebookContainer, {childList: true});\n",
       "}}\n",
       "\n",
       "// Listen for the clearing of the current output cell\n",
       "var outputEl = gd.closest('.output');\n",
       "if (outputEl) {{\n",
       "    x.observe(outputEl, {childList: true});\n",
       "}}\n",
       "\n",
       "                        })                };                });            </script>        </div>"
      ]
     },
     "metadata": {},
     "output_type": "display_data"
    }
   ],
   "source": [
    "def plota_grafico_interativo(df):\n",
    "    estados = df.index\n",
    "    aluguel = df['Aluguel']\n",
    "    venda = df['Venda']\n",
    "\n",
    "    fig = go.Figure()\n",
    "    fig.add_trace(go.Bar(\n",
    "        x=estados,\n",
    "        y=aluguel,\n",
    "        name='Aluguel',\n",
    "        marker_color='lightgray'\n",
    "    ))\n",
    "\n",
    "    fig.add_trace(go.Bar(\n",
    "        x=estados,\n",
    "        y=venda,\n",
    "        name='Venda',\n",
    "        marker_color='#008b2f'\n",
    "    ))\n",
    "\n",
    "    fig.update_layout(\n",
    "        barmode='stack',\n",
    "        title='Desempenho das Filiais (Número de Vendas e Aluguéis)',\n",
    "        xaxis_title='Estado',\n",
    "        yaxis_title='Número de Transações',\n",
    "        legend_title='Tipo de Transação',\n",
    "        xaxis_tickangle=-90, \n",
    "        width=800,\n",
    "        height=600,\n",
    "        template='plotly_white'\n",
    "    )\n",
    "\n",
    "    fig.show()\n",
    "plota_grafico_interativo(desempenho_filiais_ordenado)"
   ]
  },
  {
   "cell_type": "markdown",
   "id": "618fc02e-89b3-4792-97d1-ea0813589d1f",
   "metadata": {},
   "source": [
    "Para se ter noção real dos faturamentos foi preciso fazer um cálculo de lucro onde calculei o faturamento mensal por vendas e por aluguéis, depois somei esses dois valores para obter o faturamento total de cada filial, e por último ordenei as filiais com base no faturamento total, do maior para o menor.\n",
    "Assim vamos ter a noção real dos faturamentos das filiais.\n",
    "\n",
    "Como os valores do alguel e de venda podem alternar os valores dos resultados podem estar errados."
   ]
  },
  {
   "cell_type": "code",
   "execution_count": 26,
   "id": "fe73ec73-81cc-4d50-8d31-a0f60bb75e47",
   "metadata": {},
   "outputs": [
    {
     "data": {
      "text/html": [
       "<div>\n",
       "<style scoped>\n",
       "    .dataframe tbody tr th:only-of-type {\n",
       "        vertical-align: middle;\n",
       "    }\n",
       "\n",
       "    .dataframe tbody tr th {\n",
       "        vertical-align: top;\n",
       "    }\n",
       "\n",
       "    .dataframe thead th {\n",
       "        text-align: right;\n",
       "    }\n",
       "</style>\n",
       "<table border=\"1\" class=\"dataframe\">\n",
       "  <thead>\n",
       "    <tr style=\"text-align: right;\">\n",
       "      <th>A/V</th>\n",
       "      <th>Faturamento Venda</th>\n",
       "      <th>Faturamento Aluguel</th>\n",
       "      <th>Faturamento Total</th>\n",
       "    </tr>\n",
       "    <tr>\n",
       "      <th>Estado</th>\n",
       "      <th></th>\n",
       "      <th></th>\n",
       "      <th></th>\n",
       "    </tr>\n",
       "  </thead>\n",
       "  <tbody>\n",
       "    <tr>\n",
       "      <th>SP</th>\n",
       "      <td>268000</td>\n",
       "      <td>58320</td>\n",
       "      <td>326320</td>\n",
       "    </tr>\n",
       "    <tr>\n",
       "      <th>MG</th>\n",
       "      <td>200000</td>\n",
       "      <td>46440</td>\n",
       "      <td>246440</td>\n",
       "    </tr>\n",
       "    <tr>\n",
       "      <th>SC</th>\n",
       "      <td>152000</td>\n",
       "      <td>63720</td>\n",
       "      <td>215720</td>\n",
       "    </tr>\n",
       "    <tr>\n",
       "      <th>PE</th>\n",
       "      <td>104000</td>\n",
       "      <td>68580</td>\n",
       "      <td>172580</td>\n",
       "    </tr>\n",
       "    <tr>\n",
       "      <th>RS</th>\n",
       "      <td>136000</td>\n",
       "      <td>11880</td>\n",
       "      <td>147880</td>\n",
       "    </tr>\n",
       "    <tr>\n",
       "      <th>BA</th>\n",
       "      <td>72000</td>\n",
       "      <td>61560</td>\n",
       "      <td>133560</td>\n",
       "    </tr>\n",
       "    <tr>\n",
       "      <th>PR</th>\n",
       "      <td>56000</td>\n",
       "      <td>55080</td>\n",
       "      <td>111080</td>\n",
       "    </tr>\n",
       "    <tr>\n",
       "      <th>AL</th>\n",
       "      <td>36000</td>\n",
       "      <td>56700</td>\n",
       "      <td>92700</td>\n",
       "    </tr>\n",
       "    <tr>\n",
       "      <th>ES</th>\n",
       "      <td>64000</td>\n",
       "      <td>20520</td>\n",
       "      <td>84520</td>\n",
       "    </tr>\n",
       "    <tr>\n",
       "      <th>PA</th>\n",
       "      <td>70000</td>\n",
       "      <td>14040</td>\n",
       "      <td>84040</td>\n",
       "    </tr>\n",
       "    <tr>\n",
       "      <th>AM</th>\n",
       "      <td>58000</td>\n",
       "      <td>16200</td>\n",
       "      <td>74200</td>\n",
       "    </tr>\n",
       "    <tr>\n",
       "      <th>GO</th>\n",
       "      <td>44000</td>\n",
       "      <td>18360</td>\n",
       "      <td>62360</td>\n",
       "    </tr>\n",
       "    <tr>\n",
       "      <th>CE</th>\n",
       "      <td>44000</td>\n",
       "      <td>16200</td>\n",
       "      <td>60200</td>\n",
       "    </tr>\n",
       "    <tr>\n",
       "      <th>MT</th>\n",
       "      <td>34000</td>\n",
       "      <td>12960</td>\n",
       "      <td>46960</td>\n",
       "    </tr>\n",
       "    <tr>\n",
       "      <th>MA</th>\n",
       "      <td>26000</td>\n",
       "      <td>10260</td>\n",
       "      <td>36260</td>\n",
       "    </tr>\n",
       "    <tr>\n",
       "      <th>PI</th>\n",
       "      <td>24000</td>\n",
       "      <td>10260</td>\n",
       "      <td>34260</td>\n",
       "    </tr>\n",
       "    <tr>\n",
       "      <th>RN</th>\n",
       "      <td>18000</td>\n",
       "      <td>13500</td>\n",
       "      <td>31500</td>\n",
       "    </tr>\n",
       "    <tr>\n",
       "      <th>SE</th>\n",
       "      <td>18000</td>\n",
       "      <td>12960</td>\n",
       "      <td>30960</td>\n",
       "    </tr>\n",
       "    <tr>\n",
       "      <th>PB</th>\n",
       "      <td>18000</td>\n",
       "      <td>12420</td>\n",
       "      <td>30420</td>\n",
       "    </tr>\n",
       "    <tr>\n",
       "      <th>DF</th>\n",
       "      <td>18000</td>\n",
       "      <td>12420</td>\n",
       "      <td>30420</td>\n",
       "    </tr>\n",
       "    <tr>\n",
       "      <th>TO</th>\n",
       "      <td>22000</td>\n",
       "      <td>8100</td>\n",
       "      <td>30100</td>\n",
       "    </tr>\n",
       "    <tr>\n",
       "      <th>MS</th>\n",
       "      <td>16000</td>\n",
       "      <td>13500</td>\n",
       "      <td>29500</td>\n",
       "    </tr>\n",
       "    <tr>\n",
       "      <th>RJ</th>\n",
       "      <td>18000</td>\n",
       "      <td>10260</td>\n",
       "      <td>28260</td>\n",
       "    </tr>\n",
       "    <tr>\n",
       "      <th>AP</th>\n",
       "      <td>12000</td>\n",
       "      <td>11880</td>\n",
       "      <td>23880</td>\n",
       "    </tr>\n",
       "    <tr>\n",
       "      <th>AC</th>\n",
       "      <td>12000</td>\n",
       "      <td>9180</td>\n",
       "      <td>21180</td>\n",
       "    </tr>\n",
       "    <tr>\n",
       "      <th>RR</th>\n",
       "      <td>10000</td>\n",
       "      <td>6480</td>\n",
       "      <td>16480</td>\n",
       "    </tr>\n",
       "    <tr>\n",
       "      <th>RO</th>\n",
       "      <td>6000</td>\n",
       "      <td>10260</td>\n",
       "      <td>16260</td>\n",
       "    </tr>\n",
       "  </tbody>\n",
       "</table>\n",
       "</div>"
      ],
      "text/plain": [
       "A/V     Faturamento Venda  Faturamento Aluguel  Faturamento Total\n",
       "Estado                                                           \n",
       "SP                 268000                58320             326320\n",
       "MG                 200000                46440             246440\n",
       "SC                 152000                63720             215720\n",
       "PE                 104000                68580             172580\n",
       "RS                 136000                11880             147880\n",
       "BA                  72000                61560             133560\n",
       "PR                  56000                55080             111080\n",
       "AL                  36000                56700              92700\n",
       "ES                  64000                20520              84520\n",
       "PA                  70000                14040              84040\n",
       "AM                  58000                16200              74200\n",
       "GO                  44000                18360              62360\n",
       "CE                  44000                16200              60200\n",
       "MT                  34000                12960              46960\n",
       "MA                  26000                10260              36260\n",
       "PI                  24000                10260              34260\n",
       "RN                  18000                13500              31500\n",
       "SE                  18000                12960              30960\n",
       "PB                  18000                12420              30420\n",
       "DF                  18000                12420              30420\n",
       "TO                  22000                 8100              30100\n",
       "MS                  16000                13500              29500\n",
       "RJ                  18000                10260              28260\n",
       "AP                  12000                11880              23880\n",
       "AC                  12000                 9180              21180\n",
       "RR                  10000                 6480              16480\n",
       "RO                   6000                10260              16260"
      ]
     },
     "execution_count": 26,
     "metadata": {},
     "output_type": "execute_result"
    }
   ],
   "source": [
    "valor_venda = 2000  # Entrada à vista para venda\n",
    "valor_aluguel = 135  # Valor semanal do aluguel\n",
    "\n",
    "# faturamento mensal por venda e aluguel\n",
    "faturamento_filiais = desempenho_filiais.copy()\n",
    "faturamento_filiais['Faturamento Venda'] = desempenho_filiais['Venda'] * valor_venda\n",
    "faturamento_filiais['Faturamento Aluguel'] = desempenho_filiais['Aluguel'] * valor_aluguel * 4  # 4 semanas por mês\n",
    "\n",
    "# Somando o faturamento total\n",
    "faturamento_filiais['Faturamento Total'] = faturamento_filiais['Faturamento Venda'] + faturamento_filiais['Faturamento Aluguel']\n",
    "\n",
    "# Ordenando as filiais pelo faturamento total\n",
    "faturamento_filiais_ordenado = faturamento_filiais.sort_values(by='Faturamento Total', ascending=False)\n",
    "faturamento_filiais_ordenado[['Faturamento Venda', 'Faturamento Aluguel', 'Faturamento Total']]"
   ]
  },
  {
   "cell_type": "markdown",
   "id": "a23cf36e-ece2-4ec4-9b70-073cc736200c",
   "metadata": {},
   "source": [
    "Aqui separei os mêses e criei uma coluna para ela, para faciliatar na hora de plotar o gráfico."
   ]
  },
  {
   "cell_type": "code",
   "execution_count": 27,
   "id": "22c96e21-abcc-42e5-95c5-9076b6b998e5",
   "metadata": {},
   "outputs": [],
   "source": [
    "df[\"Mes\"]=df.Data.dt.month"
   ]
  },
  {
   "cell_type": "markdown",
   "id": "4db23c7e-da31-45b3-9614-9bd4f0ffe7ae",
   "metadata": {},
   "source": [
    "Logo em seguida formatei o tipo do dado, para que ficasse no padrão correto e melhorar a análise."
   ]
  },
  {
   "cell_type": "code",
   "execution_count": 28,
   "id": "8590b4f0-c948-4e55-b714-771e4bedb9d9",
   "metadata": {},
   "outputs": [],
   "source": [
    "df['Mes'] = df['Data'].dt.to_period('M')"
   ]
  },
  {
   "cell_type": "code",
   "execution_count": 29,
   "id": "77dcb03f-354d-4a4c-bf4b-220e2019ced8",
   "metadata": {},
   "outputs": [
    {
     "data": {
      "text/html": [
       "<div>\n",
       "<style scoped>\n",
       "    .dataframe tbody tr th:only-of-type {\n",
       "        vertical-align: middle;\n",
       "    }\n",
       "\n",
       "    .dataframe tbody tr th {\n",
       "        vertical-align: top;\n",
       "    }\n",
       "\n",
       "    .dataframe thead th {\n",
       "        text-align: right;\n",
       "    }\n",
       "</style>\n",
       "<table border=\"1\" class=\"dataframe\">\n",
       "  <thead>\n",
       "    <tr style=\"text-align: right;\">\n",
       "      <th></th>\n",
       "      <th>Data</th>\n",
       "      <th>A/V</th>\n",
       "      <th>Estado</th>\n",
       "      <th>Valor de Entrada</th>\n",
       "      <th>Caução</th>\n",
       "      <th>Mes</th>\n",
       "    </tr>\n",
       "  </thead>\n",
       "  <tbody>\n",
       "    <tr>\n",
       "      <th>0</th>\n",
       "      <td>2024-01-08</td>\n",
       "      <td>Aluguel</td>\n",
       "      <td>GO</td>\n",
       "      <td>NaN</td>\n",
       "      <td>700.0</td>\n",
       "      <td>2024-01</td>\n",
       "    </tr>\n",
       "    <tr>\n",
       "      <th>1</th>\n",
       "      <td>2024-01-08</td>\n",
       "      <td>Aluguel</td>\n",
       "      <td>PR</td>\n",
       "      <td>NaN</td>\n",
       "      <td>500.0</td>\n",
       "      <td>2024-01</td>\n",
       "    </tr>\n",
       "    <tr>\n",
       "      <th>2</th>\n",
       "      <td>2024-01-08</td>\n",
       "      <td>Venda</td>\n",
       "      <td>GO</td>\n",
       "      <td>2500.0</td>\n",
       "      <td>NaN</td>\n",
       "      <td>2024-01</td>\n",
       "    </tr>\n",
       "    <tr>\n",
       "      <th>3</th>\n",
       "      <td>2024-01-08</td>\n",
       "      <td>Aluguel</td>\n",
       "      <td>AM</td>\n",
       "      <td>NaN</td>\n",
       "      <td>500.0</td>\n",
       "      <td>2024-01</td>\n",
       "    </tr>\n",
       "    <tr>\n",
       "      <th>4</th>\n",
       "      <td>2024-01-08</td>\n",
       "      <td>Aluguel</td>\n",
       "      <td>BA</td>\n",
       "      <td>NaN</td>\n",
       "      <td>500.0</td>\n",
       "      <td>2024-01</td>\n",
       "    </tr>\n",
       "    <tr>\n",
       "      <th>...</th>\n",
       "      <td>...</td>\n",
       "      <td>...</td>\n",
       "      <td>...</td>\n",
       "      <td>...</td>\n",
       "      <td>...</td>\n",
       "      <td>...</td>\n",
       "    </tr>\n",
       "    <tr>\n",
       "      <th>1999</th>\n",
       "      <td>2024-08-31</td>\n",
       "      <td>Aluguel</td>\n",
       "      <td>SC</td>\n",
       "      <td>NaN</td>\n",
       "      <td>500.0</td>\n",
       "      <td>2024-08</td>\n",
       "    </tr>\n",
       "    <tr>\n",
       "      <th>2000</th>\n",
       "      <td>2024-08-31</td>\n",
       "      <td>Aluguel</td>\n",
       "      <td>BA</td>\n",
       "      <td>NaN</td>\n",
       "      <td>500.0</td>\n",
       "      <td>2024-08</td>\n",
       "    </tr>\n",
       "    <tr>\n",
       "      <th>2001</th>\n",
       "      <td>2024-08-31</td>\n",
       "      <td>Aluguel</td>\n",
       "      <td>MT</td>\n",
       "      <td>NaN</td>\n",
       "      <td>500.0</td>\n",
       "      <td>2024-08</td>\n",
       "    </tr>\n",
       "    <tr>\n",
       "      <th>2002</th>\n",
       "      <td>2024-08-31</td>\n",
       "      <td>Aluguel</td>\n",
       "      <td>AC</td>\n",
       "      <td>NaN</td>\n",
       "      <td>700.0</td>\n",
       "      <td>2024-08</td>\n",
       "    </tr>\n",
       "    <tr>\n",
       "      <th>2003</th>\n",
       "      <td>2024-08-31</td>\n",
       "      <td>Venda</td>\n",
       "      <td>SE</td>\n",
       "      <td>2000.0</td>\n",
       "      <td>NaN</td>\n",
       "      <td>2024-08</td>\n",
       "    </tr>\n",
       "  </tbody>\n",
       "</table>\n",
       "<p>2004 rows × 6 columns</p>\n",
       "</div>"
      ],
      "text/plain": [
       "           Data      A/V Estado  Valor de Entrada  Caução      Mes\n",
       "0    2024-01-08  Aluguel     GO               NaN   700.0  2024-01\n",
       "1    2024-01-08  Aluguel     PR               NaN   500.0  2024-01\n",
       "2    2024-01-08    Venda     GO            2500.0     NaN  2024-01\n",
       "3    2024-01-08  Aluguel     AM               NaN   500.0  2024-01\n",
       "4    2024-01-08  Aluguel     BA               NaN   500.0  2024-01\n",
       "...         ...      ...    ...               ...     ...      ...\n",
       "1999 2024-08-31  Aluguel     SC               NaN   500.0  2024-08\n",
       "2000 2024-08-31  Aluguel     BA               NaN   500.0  2024-08\n",
       "2001 2024-08-31  Aluguel     MT               NaN   500.0  2024-08\n",
       "2002 2024-08-31  Aluguel     AC               NaN   700.0  2024-08\n",
       "2003 2024-08-31    Venda     SE            2000.0     NaN  2024-08\n",
       "\n",
       "[2004 rows x 6 columns]"
      ]
     },
     "execution_count": 29,
     "metadata": {},
     "output_type": "execute_result"
    }
   ],
   "source": [
    "df"
   ]
  },
  {
   "cell_type": "code",
   "execution_count": 30,
   "id": "a01cb02c-d8cc-4b6b-a481-d555eb596135",
   "metadata": {},
   "outputs": [
    {
     "name": "stdout",
     "output_type": "stream",
     "text": [
      "<class 'pandas.core.frame.DataFrame'>\n",
      "RangeIndex: 2004 entries, 0 to 2003\n",
      "Data columns (total 6 columns):\n",
      " #   Column            Non-Null Count  Dtype         \n",
      "---  ------            --------------  -----         \n",
      " 0   Data              2004 non-null   datetime64[ns]\n",
      " 1   A/V               2004 non-null   string        \n",
      " 2   Estado            2004 non-null   string        \n",
      " 3   Valor de Entrada  778 non-null    float64       \n",
      " 4   Caução            1226 non-null   float64       \n",
      " 5   Mes               2004 non-null   period[M]     \n",
      "dtypes: datetime64[ns](1), float64(2), period[M](1), string(2)\n",
      "memory usage: 94.1 KB\n"
     ]
    }
   ],
   "source": [
    "df.info()"
   ]
  },
  {
   "cell_type": "markdown",
   "id": "77673c74-c9f3-42a7-ad0d-76b5498ae141",
   "metadata": {},
   "source": [
    "Com o função a seguir já consgeuimos ter noção que em agosto tem um maior indice de vendas."
   ]
  },
  {
   "cell_type": "code",
   "execution_count": 31,
   "id": "25accfaa-ee23-4161-9ade-4a13ae488d6e",
   "metadata": {},
   "outputs": [
    {
     "data": {
      "text/plain": [
       "Mes\n",
       "2024-08    1139\n",
       "2024-12     127\n",
       "2024-05      98\n",
       "2024-01      87\n",
       "2024-06      85\n",
       "2024-02      84\n",
       "2024-07      82\n",
       "2024-09      78\n",
       "2024-03      71\n",
       "2024-10      63\n",
       "2024-04      49\n",
       "2024-11      41\n",
       "Freq: M, Name: count, dtype: int64"
      ]
     },
     "execution_count": 31,
     "metadata": {},
     "output_type": "execute_result"
    }
   ],
   "source": [
    "df.Mes.value_counts()"
   ]
  },
  {
   "cell_type": "markdown",
   "id": "4e738021-e3e5-4fa9-9a65-ca497c013ae0",
   "metadata": {},
   "source": [
    "Quis fazer um gráfico linha que mostra-se as tendências de \"Aluguéis\" e \"Vendas\" ao longo dos meses. Ele nos permite identificar padrões sazonais ou mensais nas transações, além de comparar diretamente os volumes de aluguéis e vendas em cada período."
   ]
  },
  {
   "cell_type": "code",
   "execution_count": 39,
   "id": "264687db-5bcd-4288-ab50-e08e5c1c1b45",
   "metadata": {},
   "outputs": [
    {
     "data": {
      "image/png": "[encoded data removed]",
      "text/plain": [
       "<Figure size 1000x600 with 1 Axes>"
      ]
     },
     "metadata": {},
     "output_type": "display_data"
    }
   ],
   "source": [
    "av_monthly_count = df.groupby(['Mes', 'A/V']).size().unstack(fill_value=0)\n",
    "plt.figure(figsize=(10,6))\n",
    "av_monthly_count.plot(kind='line', marker='o', ax=plt.gca(), color=['#008b2f', 'lightgray'])\n",
    "\n",
    "\n",
    "plt.title('Alugueis vs Vendas por Mês', fontsize=14)\n",
    "plt.xlabel('Mês', fontsize=12)\n",
    "plt.ylabel('Quantidade de Vendas', fontsize=12)\n",
    "plt.xticks(rotation=45)\n",
    "plt.legend(title=\"A/V\", fontsize=10)\n",
    "\n",
    "\n",
    "plt.tight_layout()\n",
    "plt.show()"
   ]
  }
 ],
 "metadata": {
  "kernelspec": {
   "display_name": "Python 3 (ipykernel)",
   "language": "python",
   "name": "python3"
  },
  "language_info": {
   "codemirror_mode": {
    "name": "ipython",
    "version": 3
   },
   "file_extension": ".py",
   "mimetype": "text/x-python",
   "name": "python",
   "nbconvert_exporter": "python",
   "pygments_lexer": "ipython3",
   "version": "3.11.8"
  }
 },
 "nbformat": 4,
 "nbformat_minor": 5
}
